{
 "cells": [
  {
   "cell_type": "markdown",
   "metadata": {},
   "source": [
    "# CDAT Migration Regression Testing Notebook (`.nc` files)\n",
    "\n",
    "This notebook is used to perform regression testing between the development and\n",
    "production versions of a diagnostic set.\n",
    "\n",
    "## How it works\n",
    "\n",
    "It compares the relative differences (%) between ref and test variables between\n",
    "the dev and `main` branches.\n",
    "\n",
    "## How to use\n",
    "\n",
    "PREREQUISITE: The diagnostic set's netCDF stored in `.json` files in two directories\n",
    "(dev and `main` branches).\n",
    "\n",
    "1. Make a copy of this notebook under `auxiliary_tools/cdat_regression_testing/<DIR_NAME>`.\n",
    "2. Run `mamba create -n cdat_regression_test -y -c conda-forge \"python<3.12\" xarray netcdf4 dask pandas matplotlib-base ipykernel`\n",
    "3. Run `mamba activate cdat_regression_test`\n",
    "4. Update `SET_DIR` and `SET_NAME` in the copy of your notebook.\n",
    "5. Run all cells IN ORDER.\n",
    "6. Review results for any outstanding differences (>=1e-5 relative tolerance).\n",
    "   - Debug these differences (e.g., bug in metrics functions, incorrect variable references, etc.)\n"
   ]
  },
  {
   "cell_type": "markdown",
   "metadata": {},
   "source": [
    "## Setup Code\n"
   ]
  },
  {
   "cell_type": "code",
   "execution_count": 15,
   "metadata": {},
   "outputs": [],
   "source": [
    "import glob\n",
    "\n",
    "import numpy as np\n",
    "import xarray as xr\n",
    "from e3sm_diags.derivations.derivations import DERIVED_VARIABLES\n",
    "\n",
    "SET_NAME = \"enso_diags\"\n",
    "SET_DIR = \"663-enso_diags\"\n",
    "\n",
    "DEV_PATH = f\"/global/cfs/cdirs/e3sm/www/cdat-migration-fy24/{SET_DIR}/{SET_NAME}/**\"\n",
    "DEV_GLOB = sorted(glob.glob(DEV_PATH + \"/*.nc\"))\n",
    "DEV_NUM_FILES = len(DEV_GLOB)\n",
    "\n",
    "MAIN_PATH = f\"/global/cfs/cdirs/e3sm/www/cdat-migration-fy24/main/{SET_NAME}/**\"\n",
    "MAIN_GLOB = sorted(glob.glob(MAIN_PATH + \"/*.nc\"))\n",
    "MAIN_NUM_FILES = len(MAIN_GLOB)"
   ]
  },
  {
   "cell_type": "code",
   "execution_count": 16,
   "metadata": {},
   "outputs": [],
   "source": [
    "def _check_if_files_found():\n",
    "    if DEV_NUM_FILES == 0 or MAIN_NUM_FILES == 0:\n",
    "        raise IOError(\n",
    "            \"No files found at DEV_PATH and/or MAIN_PATH. \"\n",
    "            f\"Please check {DEV_PATH} and {MAIN_PATH}.\"\n",
    "        )\n",
    "\n",
    "\n",
    "def _check_if_matching_filecount():\n",
    "    if DEV_NUM_FILES != MAIN_NUM_FILES:\n",
    "        raise IOError(\n",
    "            \"Number of files do not match at DEV_PATH and MAIN_PATH \"\n",
    "            f\"({DEV_NUM_FILES} vs. {MAIN_NUM_FILES}).\"\n",
    "        )\n",
    "\n",
    "    print(f\"Matching file count ({DEV_NUM_FILES} and {MAIN_NUM_FILES}).\")\n",
    "\n",
    "\n",
    "def _check_if_missing_files():\n",
    "    missing_count = 0\n",
    "\n",
    "    for fp_main in MAIN_GLOB:\n",
    "        fp_dev = fp_main.replace(SET_DIR, \"main\")\n",
    "\n",
    "        if fp_dev not in MAIN_GLOB:\n",
    "            print(f\"No production file found to compare with {fp_dev}!\")\n",
    "            missing_count += 1\n",
    "\n",
    "    for fp_dev in DEV_GLOB:\n",
    "        fp_main = fp_main.replace(\"main\", SET_DIR)\n",
    "\n",
    "        if fp_main not in DEV_GLOB:\n",
    "            print(f\"No development file found to compare with {fp_main}!\")\n",
    "            missing_count += 1\n",
    "\n",
    "    print(f\"Number of files missing: {missing_count}\")"
   ]
  },
  {
   "cell_type": "code",
   "execution_count": 102,
   "metadata": {},
   "outputs": [],
   "source": [
    "def _get_relative_diffs() -> int:\n",
    "    # We are mainly focusing on relative tolerance here (in percentage terms).\n",
    "    atol = 0\n",
    "    rtol = 1e-5\n",
    "\n",
    "    mismatches = []\n",
    "\n",
    "    for fp_main in MAIN_GLOB:\n",
    "        if \"test.nc\" in fp_main or \"ref.nc\" in fp_main:\n",
    "            fp_dev = fp_main.replace(\"main\", SET_DIR)\n",
    "\n",
    "            print(\"Comparing:\")\n",
    "            print(f\"    * {fp_dev}\")\n",
    "            print(f\"    * {fp_main}\")\n",
    "\n",
    "            ds1 = xr.open_dataset(fp_dev)\n",
    "            ds2 = xr.open_dataset(fp_main)\n",
    "\n",
    "            var_key = fp_main.split(\"-\")[-3].upper()\n",
    "            var_key_cdat = f\"{var_key}-regression-over-nino\"\n",
    "            print(f\"    * var_key: {var_key}\")\n",
    "\n",
    "            dev_data = ds1[var_key].values\n",
    "            main_data = ds2[var_key_cdat].values\n",
    "\n",
    "            if dev_data is None or main_data is None:\n",
    "                print(\"    * Could not find variable key in the dataset(s)\")\n",
    "                continue\n",
    "\n",
    "            try:\n",
    "                np.testing.assert_allclose(\n",
    "                    dev_data,\n",
    "                    main_data,\n",
    "                    atol=atol,\n",
    "                    rtol=rtol,\n",
    "                )\n",
    "            except (KeyError, AssertionError) as e:\n",
    "                print(f\"    {e}\")\n",
    "                mismatches.append((fp_dev, fp_main))\n",
    "            else:\n",
    "                print(f\"    * All close and within relative tolerance ({rtol})\")\n",
    "\n",
    "    return mismatches"
   ]
  },
  {
   "cell_type": "markdown",
   "metadata": {},
   "source": [
    "## 1. Check for matching and equal number of files\n"
   ]
  },
  {
   "cell_type": "code",
   "execution_count": 103,
   "metadata": {},
   "outputs": [],
   "source": [
    "_check_if_files_found()"
   ]
  },
  {
   "cell_type": "code",
   "execution_count": 104,
   "metadata": {},
   "outputs": [
    {
     "data": {
      "text/plain": [
       "['/global/cfs/cdirs/e3sm/www/cdat-migration-fy24/663-enso_diags/enso_diags/LHFLX-response/regression-coefficient-lhflx-over-nino34_diff.nc',\n",
       " '/global/cfs/cdirs/e3sm/www/cdat-migration-fy24/663-enso_diags/enso_diags/LHFLX-response/regression-coefficient-lhflx-over-nino34_ref.nc',\n",
       " '/global/cfs/cdirs/e3sm/www/cdat-migration-fy24/663-enso_diags/enso_diags/LHFLX-response/regression-coefficient-lhflx-over-nino34_test.nc',\n",
       " '/global/cfs/cdirs/e3sm/www/cdat-migration-fy24/663-enso_diags/enso_diags/NET_FLUX_SRF-response/regression-coefficient-net_flux_srf-over-nino34_diff.nc',\n",
       " '/global/cfs/cdirs/e3sm/www/cdat-migration-fy24/663-enso_diags/enso_diags/NET_FLUX_SRF-response/regression-coefficient-net_flux_srf-over-nino34_ref.nc',\n",
       " '/global/cfs/cdirs/e3sm/www/cdat-migration-fy24/663-enso_diags/enso_diags/NET_FLUX_SRF-response/regression-coefficient-net_flux_srf-over-nino34_test.nc',\n",
       " '/global/cfs/cdirs/e3sm/www/cdat-migration-fy24/663-enso_diags/enso_diags/PRECT-response/regression-coefficient-prect-over-nino34_diff.nc',\n",
       " '/global/cfs/cdirs/e3sm/www/cdat-migration-fy24/663-enso_diags/enso_diags/PRECT-response/regression-coefficient-prect-over-nino34_ref.nc',\n",
       " '/global/cfs/cdirs/e3sm/www/cdat-migration-fy24/663-enso_diags/enso_diags/PRECT-response/regression-coefficient-prect-over-nino34_test.nc',\n",
       " '/global/cfs/cdirs/e3sm/www/cdat-migration-fy24/663-enso_diags/enso_diags/SHFLX-response/regression-coefficient-shflx-over-nino34_diff.nc',\n",
       " '/global/cfs/cdirs/e3sm/www/cdat-migration-fy24/663-enso_diags/enso_diags/SHFLX-response/regression-coefficient-shflx-over-nino34_ref.nc',\n",
       " '/global/cfs/cdirs/e3sm/www/cdat-migration-fy24/663-enso_diags/enso_diags/SHFLX-response/regression-coefficient-shflx-over-nino34_test.nc',\n",
       " '/global/cfs/cdirs/e3sm/www/cdat-migration-fy24/663-enso_diags/enso_diags/TAUX-response/regression-coefficient-taux-over-nino34_diff.nc',\n",
       " '/global/cfs/cdirs/e3sm/www/cdat-migration-fy24/663-enso_diags/enso_diags/TAUX-response/regression-coefficient-taux-over-nino34_ref.nc',\n",
       " '/global/cfs/cdirs/e3sm/www/cdat-migration-fy24/663-enso_diags/enso_diags/TAUX-response/regression-coefficient-taux-over-nino34_test.nc',\n",
       " '/global/cfs/cdirs/e3sm/www/cdat-migration-fy24/663-enso_diags/enso_diags/TAUY-response/regression-coefficient-tauy-over-nino34_diff.nc',\n",
       " '/global/cfs/cdirs/e3sm/www/cdat-migration-fy24/663-enso_diags/enso_diags/TAUY-response/regression-coefficient-tauy-over-nino34_ref.nc',\n",
       " '/global/cfs/cdirs/e3sm/www/cdat-migration-fy24/663-enso_diags/enso_diags/TAUY-response/regression-coefficient-tauy-over-nino34_test.nc']"
      ]
     },
     "execution_count": 104,
     "metadata": {},
     "output_type": "execute_result"
    }
   ],
   "source": [
    "DEV_GLOB"
   ]
  },
  {
   "cell_type": "code",
   "execution_count": 105,
   "metadata": {},
   "outputs": [
    {
     "data": {
      "text/plain": [
       "['/global/cfs/cdirs/e3sm/www/cdat-migration-fy24/main/enso_diags/LHFLX-response/regression-coefficient-lhflx-over-nino34_diff.nc',\n",
       " '/global/cfs/cdirs/e3sm/www/cdat-migration-fy24/main/enso_diags/LHFLX-response/regression-coefficient-lhflx-over-nino34_ref.nc',\n",
       " '/global/cfs/cdirs/e3sm/www/cdat-migration-fy24/main/enso_diags/LHFLX-response/regression-coefficient-lhflx-over-nino34_test.nc',\n",
       " '/global/cfs/cdirs/e3sm/www/cdat-migration-fy24/main/enso_diags/NET_FLUX_SRF-response/regression-coefficient-net_flux_srf-over-nino34_diff.nc',\n",
       " '/global/cfs/cdirs/e3sm/www/cdat-migration-fy24/main/enso_diags/NET_FLUX_SRF-response/regression-coefficient-net_flux_srf-over-nino34_ref.nc',\n",
       " '/global/cfs/cdirs/e3sm/www/cdat-migration-fy24/main/enso_diags/NET_FLUX_SRF-response/regression-coefficient-net_flux_srf-over-nino34_test.nc',\n",
       " '/global/cfs/cdirs/e3sm/www/cdat-migration-fy24/main/enso_diags/PRECT-response/regression-coefficient-prect-over-nino34_diff.nc',\n",
       " '/global/cfs/cdirs/e3sm/www/cdat-migration-fy24/main/enso_diags/PRECT-response/regression-coefficient-prect-over-nino34_ref.nc',\n",
       " '/global/cfs/cdirs/e3sm/www/cdat-migration-fy24/main/enso_diags/PRECT-response/regression-coefficient-prect-over-nino34_test.nc',\n",
       " '/global/cfs/cdirs/e3sm/www/cdat-migration-fy24/main/enso_diags/SHFLX-response/regression-coefficient-shflx-over-nino34_diff.nc',\n",
       " '/global/cfs/cdirs/e3sm/www/cdat-migration-fy24/main/enso_diags/SHFLX-response/regression-coefficient-shflx-over-nino34_ref.nc',\n",
       " '/global/cfs/cdirs/e3sm/www/cdat-migration-fy24/main/enso_diags/SHFLX-response/regression-coefficient-shflx-over-nino34_test.nc',\n",
       " '/global/cfs/cdirs/e3sm/www/cdat-migration-fy24/main/enso_diags/TAUX-response/regression-coefficient-taux-over-nino34_diff.nc',\n",
       " '/global/cfs/cdirs/e3sm/www/cdat-migration-fy24/main/enso_diags/TAUX-response/regression-coefficient-taux-over-nino34_ref.nc',\n",
       " '/global/cfs/cdirs/e3sm/www/cdat-migration-fy24/main/enso_diags/TAUX-response/regression-coefficient-taux-over-nino34_test.nc',\n",
       " '/global/cfs/cdirs/e3sm/www/cdat-migration-fy24/main/enso_diags/TAUY-response/regression-coefficient-tauy-over-nino34_diff.nc',\n",
       " '/global/cfs/cdirs/e3sm/www/cdat-migration-fy24/main/enso_diags/TAUY-response/regression-coefficient-tauy-over-nino34_ref.nc',\n",
       " '/global/cfs/cdirs/e3sm/www/cdat-migration-fy24/main/enso_diags/TAUY-response/regression-coefficient-tauy-over-nino34_test.nc']"
      ]
     },
     "execution_count": 105,
     "metadata": {},
     "output_type": "execute_result"
    }
   ],
   "source": [
    "MAIN_GLOB"
   ]
  },
  {
   "cell_type": "code",
   "execution_count": 106,
   "metadata": {},
   "outputs": [
    {
     "name": "stdout",
     "output_type": "stream",
     "text": [
      "Number of files missing: 0\n"
     ]
    }
   ],
   "source": [
    "_check_if_missing_files()"
   ]
  },
  {
   "cell_type": "code",
   "execution_count": 107,
   "metadata": {},
   "outputs": [
    {
     "name": "stdout",
     "output_type": "stream",
     "text": [
      "Matching file count (18 and 18).\n"
     ]
    }
   ],
   "source": [
    "_check_if_matching_filecount()"
   ]
  },
  {
   "cell_type": "markdown",
   "metadata": {},
   "source": [
    "## 2 Compare the netCDF files between branches\n",
    "\n",
    "- Compare \"ref\" and \"test\" files\n",
    "- \"diff\" files are ignored because getting relative diffs for these does not make sense (relative diff will be above tolerance)\n"
   ]
  },
  {
   "cell_type": "code",
   "execution_count": 108,
   "metadata": {},
   "outputs": [
    {
     "name": "stdout",
     "output_type": "stream",
     "text": [
      "Comparing:\n",
      "    * /global/cfs/cdirs/e3sm/www/cdat-migration-fy24/663-enso_diags/enso_diags/LHFLX-response/regression-coefficient-lhflx-over-nino34_ref.nc\n",
      "    * /global/cfs/cdirs/e3sm/www/cdat-migration-fy24/main/enso_diags/LHFLX-response/regression-coefficient-lhflx-over-nino34_ref.nc\n",
      "    * var_key: LHFLX\n",
      "    \n",
      "Not equal to tolerance rtol=1e-05, atol=0\n",
      "\n",
      "(shapes (53, 480), (55, 480) mismatch)\n",
      " x: array([[ 0.372228,  0.4754  ,  0.693551, ...,  0.04266 ,  0.275301,\n",
      "         0.294088],\n",
      "       [ 0.576394,  0.650426,  0.902666, ...,  0.179812,  0.45417 ,...\n",
      " y: array([[ 0.345141,  0.473852,  0.6088  , ..., -0.014503,  0.138434,\n",
      "         0.257044],\n",
      "       [ 0.372228,  0.4754  ,  0.693551, ...,  0.04266 ,  0.275301,...\n",
      "Comparing:\n",
      "    * /global/cfs/cdirs/e3sm/www/cdat-migration-fy24/663-enso_diags/enso_diags/LHFLX-response/regression-coefficient-lhflx-over-nino34_test.nc\n",
      "    * /global/cfs/cdirs/e3sm/www/cdat-migration-fy24/main/enso_diags/LHFLX-response/regression-coefficient-lhflx-over-nino34_test.nc\n",
      "    * var_key: LHFLX\n",
      "    * All close and within relative tolerance (1e-05)\n",
      "Comparing:\n",
      "    * /global/cfs/cdirs/e3sm/www/cdat-migration-fy24/663-enso_diags/enso_diags/NET_FLUX_SRF-response/regression-coefficient-net_flux_srf-over-nino34_ref.nc\n",
      "    * /global/cfs/cdirs/e3sm/www/cdat-migration-fy24/main/enso_diags/NET_FLUX_SRF-response/regression-coefficient-net_flux_srf-over-nino34_ref.nc\n",
      "    * var_key: NET_FLUX_SRF\n",
      "    \n",
      "Not equal to tolerance rtol=1e-05, atol=0\n",
      "\n",
      "(shapes (53, 480), (55, 480) mismatch)\n",
      " x: array([[-0.478962, -0.440921, -0.608493, ..., -0.330434, -0.618777,\n",
      "        -0.56332 ],\n",
      "       [-0.717857, -0.629789, -0.838832, ..., -0.465866, -0.792372,...\n",
      " y: array([[-0.608589, -0.623323, -0.669679, ..., -0.154109, -0.37142 ,\n",
      "        -0.544601],\n",
      "       [-0.478962, -0.440921, -0.608493, ..., -0.330434, -0.618777,...\n",
      "Comparing:\n",
      "    * /global/cfs/cdirs/e3sm/www/cdat-migration-fy24/663-enso_diags/enso_diags/NET_FLUX_SRF-response/regression-coefficient-net_flux_srf-over-nino34_test.nc\n",
      "    * /global/cfs/cdirs/e3sm/www/cdat-migration-fy24/main/enso_diags/NET_FLUX_SRF-response/regression-coefficient-net_flux_srf-over-nino34_test.nc\n",
      "    * var_key: NET_FLUX_SRF\n",
      "    * All close and within relative tolerance (1e-05)\n",
      "Comparing:\n",
      "    * /global/cfs/cdirs/e3sm/www/cdat-migration-fy24/663-enso_diags/enso_diags/PRECT-response/regression-coefficient-prect-over-nino34_ref.nc\n",
      "    * /global/cfs/cdirs/e3sm/www/cdat-migration-fy24/main/enso_diags/PRECT-response/regression-coefficient-prect-over-nino34_ref.nc\n",
      "    * var_key: PRECT\n",
      "    * All close and within relative tolerance (1e-05)\n",
      "Comparing:\n",
      "    * /global/cfs/cdirs/e3sm/www/cdat-migration-fy24/663-enso_diags/enso_diags/PRECT-response/regression-coefficient-prect-over-nino34_test.nc\n",
      "    * /global/cfs/cdirs/e3sm/www/cdat-migration-fy24/main/enso_diags/PRECT-response/regression-coefficient-prect-over-nino34_test.nc\n",
      "    * var_key: PRECT\n",
      "    * All close and within relative tolerance (1e-05)\n",
      "Comparing:\n",
      "    * /global/cfs/cdirs/e3sm/www/cdat-migration-fy24/663-enso_diags/enso_diags/SHFLX-response/regression-coefficient-shflx-over-nino34_ref.nc\n",
      "    * /global/cfs/cdirs/e3sm/www/cdat-migration-fy24/main/enso_diags/SHFLX-response/regression-coefficient-shflx-over-nino34_ref.nc\n",
      "    * var_key: SHFLX\n",
      "    \n",
      "Not equal to tolerance rtol=1e-05, atol=0\n",
      "\n",
      "(shapes (53, 480), (55, 480) mismatch)\n",
      " x: array([[-0.098591, -0.133238, -0.101302, ..., -0.192688, -0.10719 ,\n",
      "        -0.075496],\n",
      "       [-0.068042, -0.113197, -0.065878, ..., -0.166942, -0.0826  ,...\n",
      " y: array([[-0.068254, -0.063521, -0.030234, ..., -0.155031, -0.098556,\n",
      "        -0.059156],\n",
      "       [-0.098591, -0.133238, -0.101302, ..., -0.192688, -0.10719 ,...\n",
      "Comparing:\n",
      "    * /global/cfs/cdirs/e3sm/www/cdat-migration-fy24/663-enso_diags/enso_diags/SHFLX-response/regression-coefficient-shflx-over-nino34_test.nc\n",
      "    * /global/cfs/cdirs/e3sm/www/cdat-migration-fy24/main/enso_diags/SHFLX-response/regression-coefficient-shflx-over-nino34_test.nc\n",
      "    * var_key: SHFLX\n",
      "    * All close and within relative tolerance (1e-05)\n",
      "Comparing:\n",
      "    * /global/cfs/cdirs/e3sm/www/cdat-migration-fy24/663-enso_diags/enso_diags/TAUX-response/regression-coefficient-taux-over-nino34_ref.nc\n",
      "    * /global/cfs/cdirs/e3sm/www/cdat-migration-fy24/main/enso_diags/TAUX-response/regression-coefficient-taux-over-nino34_ref.nc\n",
      "    * var_key: TAUX\n",
      "    \n",
      "Not equal to tolerance rtol=1e-05, atol=0\n",
      "\n",
      "(shapes (53, 480), (55, 480) mismatch)\n",
      " x: array([[-0.000807, -0.000653, -0.000487, ..., -0.001077, -0.00099 ,\n",
      "        -0.000935],\n",
      "       [-0.000497, -0.000422, -0.000271, ..., -0.000857, -0.000727,...\n",
      " y: array([[-0.001097, -0.00091 , -0.000757, ..., -0.001383, -0.00129 ,\n",
      "        -0.001214],\n",
      "       [-0.000807, -0.000653, -0.000487, ..., -0.001077, -0.00099 ,...\n",
      "Comparing:\n",
      "    * /global/cfs/cdirs/e3sm/www/cdat-migration-fy24/663-enso_diags/enso_diags/TAUX-response/regression-coefficient-taux-over-nino34_test.nc\n",
      "    * /global/cfs/cdirs/e3sm/www/cdat-migration-fy24/main/enso_diags/TAUX-response/regression-coefficient-taux-over-nino34_test.nc\n",
      "    * var_key: TAUX\n",
      "    * All close and within relative tolerance (1e-05)\n",
      "Comparing:\n",
      "    * /global/cfs/cdirs/e3sm/www/cdat-migration-fy24/663-enso_diags/enso_diags/TAUY-response/regression-coefficient-tauy-over-nino34_ref.nc\n",
      "    * /global/cfs/cdirs/e3sm/www/cdat-migration-fy24/main/enso_diags/TAUY-response/regression-coefficient-tauy-over-nino34_ref.nc\n",
      "    * var_key: TAUY\n",
      "    \n",
      "Not equal to tolerance rtol=1e-05, atol=0\n",
      "\n",
      "(shapes (53, 480), (55, 480) mismatch)\n",
      " x: array([[ 1.750785e-03,  1.705618e-03,  1.662032e-03, ...,  1.920203e-03,\n",
      "         1.843397e-03,  1.797814e-03],\n",
      "       [ 1.550605e-03,  1.532747e-03,  1.484382e-03, ...,  1.726326e-03,...\n",
      " y: array([[ 1.956076e-03,  1.870412e-03,  1.825058e-03, ...,  2.146631e-03,\n",
      "         2.070387e-03,  2.017867e-03],\n",
      "       [ 1.750785e-03,  1.705618e-03,  1.662032e-03, ...,  1.920203e-03,...\n",
      "Comparing:\n",
      "    * /global/cfs/cdirs/e3sm/www/cdat-migration-fy24/663-enso_diags/enso_diags/TAUY-response/regression-coefficient-tauy-over-nino34_test.nc\n",
      "    * /global/cfs/cdirs/e3sm/www/cdat-migration-fy24/main/enso_diags/TAUY-response/regression-coefficient-tauy-over-nino34_test.nc\n",
      "    * var_key: TAUY\n",
      "    * All close and within relative tolerance (1e-05)\n"
     ]
    }
   ],
   "source": [
    "mismatches = _get_relative_diffs()"
   ]
  },
  {
   "cell_type": "code",
   "execution_count": 109,
   "metadata": {},
   "outputs": [
    {
     "data": {
      "text/plain": [
       "[('/global/cfs/cdirs/e3sm/www/cdat-migration-fy24/663-enso_diags/enso_diags/LHFLX-response/regression-coefficient-lhflx-over-nino34_ref.nc',\n",
       "  '/global/cfs/cdirs/e3sm/www/cdat-migration-fy24/main/enso_diags/LHFLX-response/regression-coefficient-lhflx-over-nino34_ref.nc'),\n",
       " ('/global/cfs/cdirs/e3sm/www/cdat-migration-fy24/663-enso_diags/enso_diags/NET_FLUX_SRF-response/regression-coefficient-net_flux_srf-over-nino34_ref.nc',\n",
       "  '/global/cfs/cdirs/e3sm/www/cdat-migration-fy24/main/enso_diags/NET_FLUX_SRF-response/regression-coefficient-net_flux_srf-over-nino34_ref.nc'),\n",
       " ('/global/cfs/cdirs/e3sm/www/cdat-migration-fy24/663-enso_diags/enso_diags/SHFLX-response/regression-coefficient-shflx-over-nino34_ref.nc',\n",
       "  '/global/cfs/cdirs/e3sm/www/cdat-migration-fy24/main/enso_diags/SHFLX-response/regression-coefficient-shflx-over-nino34_ref.nc'),\n",
       " ('/global/cfs/cdirs/e3sm/www/cdat-migration-fy24/663-enso_diags/enso_diags/TAUX-response/regression-coefficient-taux-over-nino34_ref.nc',\n",
       "  '/global/cfs/cdirs/e3sm/www/cdat-migration-fy24/main/enso_diags/TAUX-response/regression-coefficient-taux-over-nino34_ref.nc'),\n",
       " ('/global/cfs/cdirs/e3sm/www/cdat-migration-fy24/663-enso_diags/enso_diags/TAUY-response/regression-coefficient-tauy-over-nino34_ref.nc',\n",
       "  '/global/cfs/cdirs/e3sm/www/cdat-migration-fy24/main/enso_diags/TAUY-response/regression-coefficient-tauy-over-nino34_ref.nc')]"
      ]
     },
     "execution_count": 109,
     "metadata": {},
     "output_type": "execute_result"
    }
   ],
   "source": [
    "mismatches"
   ]
  }
 ],
 "metadata": {
  "kernelspec": {
   "display_name": "cdat_regression_test",
   "language": "python",
   "name": "python3"
  },
  "language_info": {
   "codemirror_mode": {
    "name": "ipython",
    "version": 3
   },
   "file_extension": ".py",
   "mimetype": "text/x-python",
   "name": "python",
   "nbconvert_exporter": "python",
   "pygments_lexer": "ipython3",
   "version": "3.10.14"
  }
 },
 "nbformat": 4,
 "nbformat_minor": 2
}
