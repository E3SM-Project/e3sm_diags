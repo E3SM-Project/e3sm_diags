{
 "cells": [
  {
   "cell_type": "markdown",
   "metadata": {},
   "source": [
    "# CDAT Migration Regression Testing Notebook (`.png` files)\n",
    "\n",
    "This notebook is used to perform regression testing between the development and\n",
    "production versions of a diagnostic set.\n",
    "\n",
    "## How to use\n",
    "\n",
    "PREREQUISITE: The diagnostic set's netCDF stored in `.json` files in two directories\n",
    "(dev and `main` branches).\n",
    "\n",
    "1. Make a copy of this notebook under `auxiliary_tools/cdat_regression_testing/<DIR_NAME>`.\n",
    "2. Run `mamba create -n cdat_regression_test -y -c conda-forge \"python<3.12\" xarray netcdf4 dask pandas matplotlib-base ipykernel`\n",
    "3. Run `mamba activate cdat_regression_test`\n",
    "4. Update `SET_DIR` and `SET_NAME` in the copy of your notebook.\n",
    "5. Run all cells IN ORDER.\n"
   ]
  },
  {
   "cell_type": "markdown",
   "metadata": {},
   "source": [
    "## Setup Code\n"
   ]
  },
  {
   "cell_type": "code",
   "execution_count": 1,
   "metadata": {},
   "outputs": [],
   "source": [
    "import glob\n",
    "\n",
    "from auxiliary_tools.cdat_regression_testing.utils import get_image_diffs\n",
    "\n",
    "DEV_DIR = \"861-time-series-multiple\"\n",
    "DEV_PATH = f\"/home/ac.tvo/E3SM-Project/e3sm_diags/qa/{DEV_DIR}/\"\n",
    "\n",
    "DEV_GLOB = sorted(glob.glob(DEV_PATH + \"**/**/*.png\"))\n",
    "DEV_NUM_FILES = len(DEV_GLOB)\n",
    "\n",
    "MAIN_DIR = \"861-time-series-multiple-main\"\n",
    "MAIN_PATH = f\"/home/ac.tvo/E3SM-Project/e3sm_diags/qa/{MAIN_DIR}/\"\n",
    "MAIN_GLOB = sorted(glob.glob(MAIN_PATH + \"**/**/*.png\"))\n",
    "MAIN_NUM_FILES = len(MAIN_GLOB)"
   ]
  },
  {
   "cell_type": "code",
   "execution_count": 2,
   "metadata": {},
   "outputs": [],
   "source": [
    "def _check_if_files_found():\n",
    "    if DEV_NUM_FILES == 0 or MAIN_NUM_FILES == 0:\n",
    "        raise IOError(\n",
    "            \"No files found at DEV_PATH and/or MAIN_PATH. \"\n",
    "            f\"Please check {DEV_PATH} and {MAIN_PATH}.\"\n",
    "        )\n",
    "\n",
    "\n",
    "def _check_if_matching_filecount():\n",
    "    if DEV_NUM_FILES != MAIN_NUM_FILES:\n",
    "        raise IOError(\n",
    "            \"Number of files do not match at DEV_PATH and MAIN_PATH \"\n",
    "            f\"({DEV_NUM_FILES} vs. {MAIN_NUM_FILES}).\"\n",
    "        )\n",
    "\n",
    "    print(f\"Matching file count ({DEV_NUM_FILES} and {MAIN_NUM_FILES}).\")\n",
    "\n",
    "\n",
    "def _check_if_missing_files():\n",
    "    missing_count = 0\n",
    "\n",
    "    for fp_main in MAIN_GLOB:\n",
    "        fp_dev = fp_main.replace(MAIN_DIR, DEV_DIR)\n",
    "\n",
    "        if fp_dev not in MAIN_GLOB:\n",
    "            print(f\"No production file found to compare with {fp_dev}!\")\n",
    "            missing_count += 1\n",
    "\n",
    "    for fp_dev in DEV_GLOB:\n",
    "        fp_main = fp_main.replace(MAIN_DIR, DEV_DIR)\n",
    "\n",
    "        if fp_main not in DEV_GLOB:\n",
    "            print(f\"No development file found to compare with {fp_main}!\")\n",
    "            missing_count += 1\n",
    "\n",
    "    print(f\"Number of files missing: {missing_count}\")"
   ]
  },
  {
   "cell_type": "markdown",
   "metadata": {},
   "source": [
    "## 1. Check for matching and equal number of files\n"
   ]
  },
  {
   "cell_type": "code",
   "execution_count": 3,
   "metadata": {},
   "outputs": [],
   "source": [
    "_check_if_files_found()"
   ]
  },
  {
   "cell_type": "code",
   "execution_count": 4,
   "metadata": {},
   "outputs": [
    {
     "name": "stdout",
     "output_type": "stream",
     "text": [
      "No production file found to compare with /home/ac.tvo/E3SM-Project/e3sm_diags/qa/861-time-series-multiple/area_mean_time_series/FLUT/FLUT.png!\n",
      "No production file found to compare with /home/ac.tvo/E3SM-Project/e3sm_diags/qa/861-time-series-multiple/area_mean_time_series/FSNTOA/FSNTOA.png!\n",
      "No production file found to compare with /home/ac.tvo/E3SM-Project/e3sm_diags/qa/861-time-series-multiple/area_mean_time_series/LHFLX/LHFLX.png!\n",
      "No production file found to compare with /home/ac.tvo/E3SM-Project/e3sm_diags/qa/861-time-series-multiple/area_mean_time_series/LWCF/LWCF.png!\n",
      "No production file found to compare with /home/ac.tvo/E3SM-Project/e3sm_diags/qa/861-time-series-multiple/area_mean_time_series/PRECT/PRECT.png!\n",
      "No production file found to compare with /home/ac.tvo/E3SM-Project/e3sm_diags/qa/861-time-series-multiple/area_mean_time_series/QFLX/QFLX.png!\n",
      "No production file found to compare with /home/ac.tvo/E3SM-Project/e3sm_diags/qa/861-time-series-multiple/area_mean_time_series/SHFLX/SHFLX.png!\n",
      "No production file found to compare with /home/ac.tvo/E3SM-Project/e3sm_diags/qa/861-time-series-multiple/area_mean_time_series/SWCF/SWCF.png!\n",
      "No production file found to compare with /home/ac.tvo/E3SM-Project/e3sm_diags/qa/861-time-series-multiple/area_mean_time_series/TREFHT/TREFHT.png!\n",
      "No production file found to compare with /home/ac.tvo/E3SM-Project/e3sm_diags/qa/861-time-series-multiple/enso_diags/TAUX-response/regression-coefficient-taux-over-nino34.png!\n",
      "No production file found to compare with /home/ac.tvo/E3SM-Project/e3sm_diags/qa/861-time-series-multiple/qbo/QBO-ERA-Interim/qbo_diags.png!\n",
      "No production file found to compare with /home/ac.tvo/E3SM-Project/e3sm_diags/qa/861-time-series-multiple/streamflow/RIVER_DISCHARGE_OVER_LAND_LIQ_GSIM/annual_map.png!\n",
      "No production file found to compare with /home/ac.tvo/E3SM-Project/e3sm_diags/qa/861-time-series-multiple/streamflow/RIVER_DISCHARGE_OVER_LAND_LIQ_GSIM/annual_scatter.png!\n",
      "No production file found to compare with /home/ac.tvo/E3SM-Project/e3sm_diags/qa/861-time-series-multiple/streamflow/RIVER_DISCHARGE_OVER_LAND_LIQ_GSIM/seasonality_map.png!\n",
      "No production file found to compare with /home/ac.tvo/E3SM-Project/e3sm_diags/qa/861-time-series-multiple/viewer/viewer/e3sm_logo.png!\n",
      "Number of files missing: 15\n"
     ]
    }
   ],
   "source": [
    "_check_if_missing_files()"
   ]
  },
  {
   "cell_type": "code",
   "execution_count": 5,
   "metadata": {},
   "outputs": [
    {
     "ename": "OSError",
     "evalue": "Number of files do not match at DEV_PATH and MAIN_PATH (25 vs. 15).",
     "output_type": "error",
     "traceback": [
      "\u001b[0;31m---------------------------------------------------------------------------\u001b[0m",
      "\u001b[0;31mOSError\u001b[0m                                   Traceback (most recent call last)",
      "Cell \u001b[0;32mIn[5], line 1\u001b[0m\n\u001b[0;32m----> 1\u001b[0m \u001b[43m_check_if_matching_filecount\u001b[49m\u001b[43m(\u001b[49m\u001b[43m)\u001b[49m\n",
      "Cell \u001b[0;32mIn[2], line 11\u001b[0m, in \u001b[0;36m_check_if_matching_filecount\u001b[0;34m()\u001b[0m\n\u001b[1;32m      9\u001b[0m \u001b[38;5;28;01mdef\u001b[39;00m \u001b[38;5;21m_check_if_matching_filecount\u001b[39m():\n\u001b[1;32m     10\u001b[0m     \u001b[38;5;28;01mif\u001b[39;00m DEV_NUM_FILES \u001b[38;5;241m!=\u001b[39m MAIN_NUM_FILES:\n\u001b[0;32m---> 11\u001b[0m         \u001b[38;5;28;01mraise\u001b[39;00m \u001b[38;5;167;01mIOError\u001b[39;00m(\n\u001b[1;32m     12\u001b[0m             \u001b[38;5;124m\"\u001b[39m\u001b[38;5;124mNumber of files do not match at DEV_PATH and MAIN_PATH \u001b[39m\u001b[38;5;124m\"\u001b[39m\n\u001b[1;32m     13\u001b[0m             \u001b[38;5;124mf\u001b[39m\u001b[38;5;124m\"\u001b[39m\u001b[38;5;124m(\u001b[39m\u001b[38;5;132;01m{\u001b[39;00mDEV_NUM_FILES\u001b[38;5;132;01m}\u001b[39;00m\u001b[38;5;124m vs. \u001b[39m\u001b[38;5;132;01m{\u001b[39;00mMAIN_NUM_FILES\u001b[38;5;132;01m}\u001b[39;00m\u001b[38;5;124m).\u001b[39m\u001b[38;5;124m\"\u001b[39m\n\u001b[1;32m     14\u001b[0m         )\n\u001b[1;32m     16\u001b[0m     \u001b[38;5;28mprint\u001b[39m(\u001b[38;5;124mf\u001b[39m\u001b[38;5;124m\"\u001b[39m\u001b[38;5;124mMatching file count (\u001b[39m\u001b[38;5;132;01m{\u001b[39;00mDEV_NUM_FILES\u001b[38;5;132;01m}\u001b[39;00m\u001b[38;5;124m and \u001b[39m\u001b[38;5;132;01m{\u001b[39;00mMAIN_NUM_FILES\u001b[38;5;132;01m}\u001b[39;00m\u001b[38;5;124m).\u001b[39m\u001b[38;5;124m\"\u001b[39m)\n",
      "\u001b[0;31mOSError\u001b[0m: Number of files do not match at DEV_PATH and MAIN_PATH (25 vs. 15)."
     ]
    }
   ],
   "source": [
    "_check_if_matching_filecount()"
   ]
  },
  {
   "cell_type": "markdown",
   "metadata": {},
   "source": [
    "## 2 Compare the plots between branches\n",
    "\n",
    "- Compare \"ref\" and \"test\" files\n",
    "- \"diff\" files are ignored because getting relative diffs for these does not make sense (relative diff will be above tolerance)\n"
   ]
  },
  {
   "cell_type": "code",
   "execution_count": 7,
   "metadata": {},
   "outputs": [
    {
     "name": "stdout",
     "output_type": "stream",
     "text": [
      "Comparing:\n",
      "    * /home/ac.tvo/E3SM-Project/e3sm_diags/qa/861-time-series-multiple-main/area_mean_time_series/FLUT/FLUT.png\n",
      "    * /home/ac.tvo/E3SM-Project/e3sm_diags/qa/861-time-series-multiple/area_mean_time_series/FLUT/FLUT.png\n",
      "     * Difference path /home/ac.tvo/E3SM-Project/e3sm_diags/qa/861-time-series-multiple/area_mean_time_series/FLUT_diff/FLUT.png\n",
      "Comparing:\n",
      "    * /home/ac.tvo/E3SM-Project/e3sm_diags/qa/861-time-series-multiple-main/area_mean_time_series/FSNTOA/FSNTOA.png\n",
      "    * /home/ac.tvo/E3SM-Project/e3sm_diags/qa/861-time-series-multiple/area_mean_time_series/FSNTOA/FSNTOA.png\n",
      "     * Difference path /home/ac.tvo/E3SM-Project/e3sm_diags/qa/861-time-series-multiple/area_mean_time_series/FSNTOA_diff/FSNTOA.png\n",
      "Comparing:\n",
      "    * /home/ac.tvo/E3SM-Project/e3sm_diags/qa/861-time-series-multiple-main/area_mean_time_series/LHFLX/LHFLX.png\n",
      "    * /home/ac.tvo/E3SM-Project/e3sm_diags/qa/861-time-series-multiple/area_mean_time_series/LHFLX/LHFLX.png\n",
      "     * Difference path /home/ac.tvo/E3SM-Project/e3sm_diags/qa/861-time-series-multiple/area_mean_time_series/LHFLX_diff/LHFLX.png\n",
      "Comparing:\n",
      "    * /home/ac.tvo/E3SM-Project/e3sm_diags/qa/861-time-series-multiple-main/area_mean_time_series/LWCF/LWCF.png\n",
      "    * /home/ac.tvo/E3SM-Project/e3sm_diags/qa/861-time-series-multiple/area_mean_time_series/LWCF/LWCF.png\n",
      "     * Difference path /home/ac.tvo/E3SM-Project/e3sm_diags/qa/861-time-series-multiple/area_mean_time_series/LWCF_diff/LWCF.png\n",
      "Comparing:\n",
      "    * /home/ac.tvo/E3SM-Project/e3sm_diags/qa/861-time-series-multiple-main/area_mean_time_series/PRECT/PRECT.png\n",
      "    * /home/ac.tvo/E3SM-Project/e3sm_diags/qa/861-time-series-multiple/area_mean_time_series/PRECT/PRECT.png\n"
     ]
    },
    {
     "ename": "FileNotFoundError",
     "evalue": "[Errno 2] No such file or directory: '/home/ac.tvo/E3SM-Project/e3sm_diags/qa/861-time-series-multiple/area_mean_time_series/PRECT/PRECT.png'",
     "output_type": "error",
     "traceback": [
      "\u001b[0;31m---------------------------------------------------------------------------\u001b[0m",
      "\u001b[0;31mFileNotFoundError\u001b[0m                         Traceback (most recent call last)",
      "Cell \u001b[0;32mIn[7], line 9\u001b[0m\n\u001b[1;32m      6\u001b[0m \u001b[38;5;28mprint\u001b[39m(\u001b[38;5;124mf\u001b[39m\u001b[38;5;124m\"\u001b[39m\u001b[38;5;124m    * \u001b[39m\u001b[38;5;132;01m{\u001b[39;00mmain_path\u001b[38;5;132;01m}\u001b[39;00m\u001b[38;5;124m\"\u001b[39m)\n\u001b[1;32m      7\u001b[0m \u001b[38;5;28mprint\u001b[39m(\u001b[38;5;124mf\u001b[39m\u001b[38;5;124m\"\u001b[39m\u001b[38;5;124m    * \u001b[39m\u001b[38;5;132;01m{\u001b[39;00mdev_path\u001b[38;5;132;01m}\u001b[39;00m\u001b[38;5;124m\"\u001b[39m)\n\u001b[0;32m----> 9\u001b[0m \u001b[43mget_image_diffs\u001b[49m\u001b[43m(\u001b[49m\u001b[43mdev_path\u001b[49m\u001b[43m,\u001b[49m\u001b[43m \u001b[49m\u001b[43mmain_path\u001b[49m\u001b[43m)\u001b[49m\n",
      "File \u001b[0;32m/gpfs/fs1/home/ac.tvo/E3SM-Project/e3sm_diags/auxiliary_tools/cdat_regression_testing/utils.py:183\u001b[0m, in \u001b[0;36mget_image_diffs\u001b[0;34m(actual_path, expected_path)\u001b[0m\n\u001b[1;32m    167\u001b[0m \u001b[38;5;28;01mdef\u001b[39;00m \u001b[38;5;21mget_image_diffs\u001b[39m(actual_path: \u001b[38;5;28mstr\u001b[39m, expected_path: \u001b[38;5;28mstr\u001b[39m) \u001b[38;5;241m-\u001b[39m\u001b[38;5;241m>\u001b[39m \u001b[38;5;28mstr\u001b[39m \u001b[38;5;241m|\u001b[39m \u001b[38;5;28;01mNone\u001b[39;00m:\n\u001b[1;32m    168\u001b[0m \u001b[38;5;250m    \u001b[39m\u001b[38;5;124;03m\"\"\"Get the diffs between two images.\u001b[39;00m\n\u001b[1;32m    169\u001b[0m \n\u001b[1;32m    170\u001b[0m \u001b[38;5;124;03m    This function is useful for comparing two datasets that can't be compared\u001b[39;00m\n\u001b[0;32m   (...)\u001b[0m\n\u001b[1;32m    181\u001b[0m \u001b[38;5;124;03m        The path to the expected png (e.g., CDAT).\u001b[39;00m\n\u001b[1;32m    182\u001b[0m \u001b[38;5;124;03m    \"\"\"\u001b[39;00m\n\u001b[0;32m--> 183\u001b[0m     actual_png \u001b[38;5;241m=\u001b[39m \u001b[43mImage\u001b[49m\u001b[38;5;241;43m.\u001b[39;49m\u001b[43mopen\u001b[49m\u001b[43m(\u001b[49m\u001b[43mactual_path\u001b[49m\u001b[43m)\u001b[49m\u001b[38;5;241m.\u001b[39mconvert(\u001b[38;5;124m\"\u001b[39m\u001b[38;5;124mRGB\u001b[39m\u001b[38;5;124m\"\u001b[39m)\n\u001b[1;32m    184\u001b[0m     expected_png \u001b[38;5;241m=\u001b[39m Image\u001b[38;5;241m.\u001b[39mopen(expected_path)\u001b[38;5;241m.\u001b[39mconvert(\u001b[38;5;124m\"\u001b[39m\u001b[38;5;124mRGB\u001b[39m\u001b[38;5;124m\"\u001b[39m)\n\u001b[1;32m    186\u001b[0m     diff \u001b[38;5;241m=\u001b[39m ImageChops\u001b[38;5;241m.\u001b[39mdifference(actual_png, expected_png)\n",
      "File \u001b[0;32m/gpfs/fs1/home/ac.tvo/mambaforge/envs/e3sm_diags_dev_673/lib/python3.10/site-packages/PIL/Image.py:3247\u001b[0m, in \u001b[0;36mopen\u001b[0;34m(fp, mode, formats)\u001b[0m\n\u001b[1;32m   3244\u001b[0m     filename \u001b[38;5;241m=\u001b[39m fp\n\u001b[1;32m   3246\u001b[0m \u001b[38;5;28;01mif\u001b[39;00m filename:\n\u001b[0;32m-> 3247\u001b[0m     fp \u001b[38;5;241m=\u001b[39m \u001b[43mbuiltins\u001b[49m\u001b[38;5;241;43m.\u001b[39;49m\u001b[43mopen\u001b[49m\u001b[43m(\u001b[49m\u001b[43mfilename\u001b[49m\u001b[43m,\u001b[49m\u001b[43m \u001b[49m\u001b[38;5;124;43m\"\u001b[39;49m\u001b[38;5;124;43mrb\u001b[39;49m\u001b[38;5;124;43m\"\u001b[39;49m\u001b[43m)\u001b[49m\n\u001b[1;32m   3248\u001b[0m     exclusive_fp \u001b[38;5;241m=\u001b[39m \u001b[38;5;28;01mTrue\u001b[39;00m\n\u001b[1;32m   3250\u001b[0m \u001b[38;5;28;01mtry\u001b[39;00m:\n",
      "\u001b[0;31mFileNotFoundError\u001b[0m: [Errno 2] No such file or directory: '/home/ac.tvo/E3SM-Project/e3sm_diags/qa/861-time-series-multiple/area_mean_time_series/PRECT/PRECT.png'"
     ]
    }
   ],
   "source": [
    "MAIN_GLOB = [f for f in MAIN_GLOB if \"AOD_550\" not in f]\n",
    "\n",
    "for main_path in MAIN_GLOB:\n",
    "    dev_path = main_path.replace(MAIN_PATH, DEV_PATH)\n",
    "    print(\"Comparing:\")\n",
    "    print(f\"    * {main_path}\")\n",
    "    print(f\"    * {dev_path}\")\n",
    "\n",
    "    get_image_diffs(dev_path, main_path)"
   ]
  },
  {
   "cell_type": "markdown",
   "metadata": {},
   "source": [
    "### Results\n",
    "\n",
    "All plots are identical\n"
   ]
  }
 ],
 "metadata": {
  "kernelspec": {
   "display_name": "Python 3",
   "language": "python",
   "name": "python3"
  },
  "language_info": {
   "codemirror_mode": {
    "name": "ipython",
    "version": 3
   },
   "file_extension": ".py",
   "mimetype": "text/x-python",
   "name": "python",
   "nbconvert_exporter": "python",
   "pygments_lexer": "ipython3",
   "version": "3.10.14"
  }
 },
 "nbformat": 4,
 "nbformat_minor": 2
}
