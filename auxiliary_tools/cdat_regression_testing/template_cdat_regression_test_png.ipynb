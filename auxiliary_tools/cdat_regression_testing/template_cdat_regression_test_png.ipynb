{
 "cells": [
  {
   "cell_type": "markdown",
   "metadata": {},
   "source": [
    "# CDAT Migration Regression Testing Notebook (`.png` files)\n",
    "\n",
    "This notebook is used to perform regression testing between the development and\n",
    "production versions of a diagnostic set.\n",
    "\n",
    "## How to use\n",
    "\n",
    "PREREQUISITE: The diagnostic set's netCDF stored in `.json` files in two directories\n",
    "(dev and `main` branches).\n",
    "\n",
    "1. Make a copy of this notebook under `auxiliary_tools/cdat_regression_testing/<DIR_NAME>`.\n",
    "2. Run `mamba create -n cdat_regression_test -y -c conda-forge \"python<3.12\" xarray netcdf4 dask pandas matplotlib-base ipykernel`\n",
    "3. Run `mamba activate cdat_regression_test`\n",
    "4. Update `SET_DIR` and `SET_NAME` in the copy of your notebook.\n",
    "5. Run all cells IN ORDER.\n"
   ]
  },
  {
   "cell_type": "markdown",
   "metadata": {},
   "source": [
    "## Setup Code\n"
   ]
  },
  {
   "cell_type": "code",
   "execution_count": 8,
   "metadata": {},
   "outputs": [],
   "source": [
    "from collections import defaultdict\n",
    "import glob\n",
    "from typing import Tuple\n",
    "\n",
    "import numpy as np\n",
    "import xarray as xr\n",
    "from e3sm_diags.derivations.derivations import DERIVED_VARIABLES\n",
    "from auxiliary_tools.cdat_regression_testing.utils import get_image_diffs\n",
    "\n",
    "\n",
    "# TODO: Update SET_NAME and SET_DIR\n",
    "SET_NAME = \"diurnal_cycle\"\n",
    "SET_DIR = \"666-diurnal-cycle\"\n",
    "\n",
    "DEV_PATH = f\"/global/cfs/cdirs/e3sm/www/cdat-migration-fy24/{SET_DIR}/{SET_NAME}/**\"\n",
    "DEV_GLOB = sorted(glob.glob(DEV_PATH + \"/*.png\"))\n",
    "DEV_NUM_FILES = len(DEV_GLOB)\n",
    "\n",
    "MAIN_PATH = f\"/global/cfs/cdirs/e3sm/www/cdat-migration-fy24/main/{SET_NAME}/**\"\n",
    "MAIN_GLOB = sorted(glob.glob(MAIN_PATH + \"/*.png\"))\n",
    "MAIN_NUM_FILES = len(MAIN_GLOB)"
   ]
  },
  {
   "cell_type": "code",
   "execution_count": 9,
   "metadata": {},
   "outputs": [],
   "source": [
    "def _check_if_files_found():\n",
    "    if DEV_NUM_FILES == 0 or MAIN_NUM_FILES == 0:\n",
    "        raise IOError(\n",
    "            \"No files found at DEV_PATH and/or MAIN_PATH. \"\n",
    "            f\"Please check {DEV_PATH} and {MAIN_PATH}.\"\n",
    "        )\n",
    "\n",
    "\n",
    "def _check_if_matching_filecount():\n",
    "    if DEV_NUM_FILES != MAIN_NUM_FILES:\n",
    "        raise IOError(\n",
    "            \"Number of files do not match at DEV_PATH and MAIN_PATH \"\n",
    "            f\"({DEV_NUM_FILES} vs. {MAIN_NUM_FILES}).\"\n",
    "        )\n",
    "\n",
    "    print(f\"Matching file count ({DEV_NUM_FILES} and {MAIN_NUM_FILES}).\")\n",
    "\n",
    "\n",
    "def _check_if_missing_files():\n",
    "    missing_count = 0\n",
    "\n",
    "    for fp_main in MAIN_GLOB:\n",
    "        fp_dev = fp_main.replace(SET_DIR, \"main\")\n",
    "\n",
    "        if fp_dev not in MAIN_GLOB:\n",
    "            print(f\"No production file found to compare with {fp_dev}!\")\n",
    "            missing_count += 1\n",
    "\n",
    "    for fp_dev in DEV_GLOB:\n",
    "        fp_main = fp_main.replace(\"main\", SET_DIR)\n",
    "\n",
    "        if fp_main not in DEV_GLOB:\n",
    "            print(f\"No development file found to compare with {fp_main}!\")\n",
    "            missing_count += 1\n",
    "\n",
    "    print(f\"Number of files missing: {missing_count}\")"
   ]
  },
  {
   "cell_type": "markdown",
   "metadata": {},
   "source": [
    "## 1. Check for matching and equal number of files\n"
   ]
  },
  {
   "cell_type": "code",
   "execution_count": 10,
   "metadata": {},
   "outputs": [],
   "source": [
    "_check_if_files_found()"
   ]
  },
  {
   "cell_type": "code",
   "execution_count": 11,
   "metadata": {},
   "outputs": [
    {
     "name": "stdout",
     "output_type": "stream",
     "text": [
      "Number of files missing: 0\n"
     ]
    }
   ],
   "source": [
    "_check_if_missing_files()"
   ]
  },
  {
   "cell_type": "code",
   "execution_count": 12,
   "metadata": {},
   "outputs": [
    {
     "name": "stdout",
     "output_type": "stream",
     "text": [
      "Matching file count (30 and 30).\n"
     ]
    }
   ],
   "source": [
    "_check_if_matching_filecount()"
   ]
  },
  {
   "cell_type": "markdown",
   "metadata": {},
   "source": [
    "## 2 Compare the plots between branches\n",
    "\n",
    "- Compare \"ref\" and \"test\" files\n",
    "- \"diff\" files are ignored because getting relative diffs for these does not make sense (relative diff will be above tolerance)\n"
   ]
  },
  {
   "cell_type": "code",
   "execution_count": 15,
   "metadata": {},
   "outputs": [
    {
     "name": "stdout",
     "output_type": "stream",
     "text": [
      "Comparing:\n",
      "    * /global/cfs/cdirs/e3sm/www/cdat-migration-fy24/main/diurnal_cycle/TRMM-3B43v-7_3hr/TRMM-3B43v-7_3hr-PRECT-ANN-20S20N.png\n",
      "    * /global/cfs/cdirs/e3sm/www/cdat-migration-fy24/666-diurnal-cycle/diurnal_cycle/TRMM-3B43v-7_3hr/TRMM-3B43v-7_3hr-PRECT-ANN-20S20N.png\n",
      "/global/cfs/cdirs/e3sm/www/cdat-migration-fy24/main/diurnal_cycle/TRMM-3B43v-7_3hr/TRMM-3B43v-7_3hr-PRECT-ANN-20S20N.png\n",
      "Comparing:\n",
      "    * /global/cfs/cdirs/e3sm/www/cdat-migration-fy24/main/diurnal_cycle/TRMM-3B43v-7_3hr/TRMM-3B43v-7_3hr-PRECT-ANN-50S50N.png\n",
      "    * /global/cfs/cdirs/e3sm/www/cdat-migration-fy24/666-diurnal-cycle/diurnal_cycle/TRMM-3B43v-7_3hr/TRMM-3B43v-7_3hr-PRECT-ANN-50S50N.png\n",
      "/global/cfs/cdirs/e3sm/www/cdat-migration-fy24/main/diurnal_cycle/TRMM-3B43v-7_3hr/TRMM-3B43v-7_3hr-PRECT-ANN-50S50N.png\n",
      "Comparing:\n",
      "    * /global/cfs/cdirs/e3sm/www/cdat-migration-fy24/main/diurnal_cycle/TRMM-3B43v-7_3hr/TRMM-3B43v-7_3hr-PRECT-ANN-Amazon.png\n",
      "    * /global/cfs/cdirs/e3sm/www/cdat-migration-fy24/666-diurnal-cycle/diurnal_cycle/TRMM-3B43v-7_3hr/TRMM-3B43v-7_3hr-PRECT-ANN-Amazon.png\n",
      "/global/cfs/cdirs/e3sm/www/cdat-migration-fy24/main/diurnal_cycle/TRMM-3B43v-7_3hr/TRMM-3B43v-7_3hr-PRECT-ANN-Amazon.png\n",
      "Comparing:\n",
      "    * /global/cfs/cdirs/e3sm/www/cdat-migration-fy24/main/diurnal_cycle/TRMM-3B43v-7_3hr/TRMM-3B43v-7_3hr-PRECT-ANN-CONUS.png\n",
      "    * /global/cfs/cdirs/e3sm/www/cdat-migration-fy24/666-diurnal-cycle/diurnal_cycle/TRMM-3B43v-7_3hr/TRMM-3B43v-7_3hr-PRECT-ANN-CONUS.png\n",
      "/global/cfs/cdirs/e3sm/www/cdat-migration-fy24/main/diurnal_cycle/TRMM-3B43v-7_3hr/TRMM-3B43v-7_3hr-PRECT-ANN-CONUS.png\n",
      "Comparing:\n",
      "    * /global/cfs/cdirs/e3sm/www/cdat-migration-fy24/main/diurnal_cycle/TRMM-3B43v-7_3hr/TRMM-3B43v-7_3hr-PRECT-ANN-W_Pacific.png\n",
      "    * /global/cfs/cdirs/e3sm/www/cdat-migration-fy24/666-diurnal-cycle/diurnal_cycle/TRMM-3B43v-7_3hr/TRMM-3B43v-7_3hr-PRECT-ANN-W_Pacific.png\n",
      "/global/cfs/cdirs/e3sm/www/cdat-migration-fy24/main/diurnal_cycle/TRMM-3B43v-7_3hr/TRMM-3B43v-7_3hr-PRECT-ANN-W_Pacific.png\n",
      "Comparing:\n",
      "    * /global/cfs/cdirs/e3sm/www/cdat-migration-fy24/main/diurnal_cycle/TRMM-3B43v-7_3hr/TRMM-3B43v-7_3hr-PRECT-ANN-global.png\n",
      "    * /global/cfs/cdirs/e3sm/www/cdat-migration-fy24/666-diurnal-cycle/diurnal_cycle/TRMM-3B43v-7_3hr/TRMM-3B43v-7_3hr-PRECT-ANN-global.png\n",
      "/global/cfs/cdirs/e3sm/www/cdat-migration-fy24/main/diurnal_cycle/TRMM-3B43v-7_3hr/TRMM-3B43v-7_3hr-PRECT-ANN-global.png\n",
      "Comparing:\n",
      "    * /global/cfs/cdirs/e3sm/www/cdat-migration-fy24/main/diurnal_cycle/TRMM-3B43v-7_3hr/TRMM-3B43v-7_3hr-PRECT-DJF-20S20N.png\n",
      "    * /global/cfs/cdirs/e3sm/www/cdat-migration-fy24/666-diurnal-cycle/diurnal_cycle/TRMM-3B43v-7_3hr/TRMM-3B43v-7_3hr-PRECT-DJF-20S20N.png\n",
      "/global/cfs/cdirs/e3sm/www/cdat-migration-fy24/main/diurnal_cycle/TRMM-3B43v-7_3hr/TRMM-3B43v-7_3hr-PRECT-DJF-20S20N.png\n",
      "Comparing:\n",
      "    * /global/cfs/cdirs/e3sm/www/cdat-migration-fy24/main/diurnal_cycle/TRMM-3B43v-7_3hr/TRMM-3B43v-7_3hr-PRECT-DJF-50S50N.png\n",
      "    * /global/cfs/cdirs/e3sm/www/cdat-migration-fy24/666-diurnal-cycle/diurnal_cycle/TRMM-3B43v-7_3hr/TRMM-3B43v-7_3hr-PRECT-DJF-50S50N.png\n",
      "/global/cfs/cdirs/e3sm/www/cdat-migration-fy24/main/diurnal_cycle/TRMM-3B43v-7_3hr/TRMM-3B43v-7_3hr-PRECT-DJF-50S50N.png\n",
      "Comparing:\n",
      "    * /global/cfs/cdirs/e3sm/www/cdat-migration-fy24/main/diurnal_cycle/TRMM-3B43v-7_3hr/TRMM-3B43v-7_3hr-PRECT-DJF-Amazon.png\n",
      "    * /global/cfs/cdirs/e3sm/www/cdat-migration-fy24/666-diurnal-cycle/diurnal_cycle/TRMM-3B43v-7_3hr/TRMM-3B43v-7_3hr-PRECT-DJF-Amazon.png\n",
      "/global/cfs/cdirs/e3sm/www/cdat-migration-fy24/main/diurnal_cycle/TRMM-3B43v-7_3hr/TRMM-3B43v-7_3hr-PRECT-DJF-Amazon.png\n",
      "Comparing:\n",
      "    * /global/cfs/cdirs/e3sm/www/cdat-migration-fy24/main/diurnal_cycle/TRMM-3B43v-7_3hr/TRMM-3B43v-7_3hr-PRECT-DJF-CONUS.png\n",
      "    * /global/cfs/cdirs/e3sm/www/cdat-migration-fy24/666-diurnal-cycle/diurnal_cycle/TRMM-3B43v-7_3hr/TRMM-3B43v-7_3hr-PRECT-DJF-CONUS.png\n",
      "/global/cfs/cdirs/e3sm/www/cdat-migration-fy24/main/diurnal_cycle/TRMM-3B43v-7_3hr/TRMM-3B43v-7_3hr-PRECT-DJF-CONUS.png\n",
      "Comparing:\n",
      "    * /global/cfs/cdirs/e3sm/www/cdat-migration-fy24/main/diurnal_cycle/TRMM-3B43v-7_3hr/TRMM-3B43v-7_3hr-PRECT-DJF-W_Pacific.png\n",
      "    * /global/cfs/cdirs/e3sm/www/cdat-migration-fy24/666-diurnal-cycle/diurnal_cycle/TRMM-3B43v-7_3hr/TRMM-3B43v-7_3hr-PRECT-DJF-W_Pacific.png\n",
      "/global/cfs/cdirs/e3sm/www/cdat-migration-fy24/main/diurnal_cycle/TRMM-3B43v-7_3hr/TRMM-3B43v-7_3hr-PRECT-DJF-W_Pacific.png\n",
      "Comparing:\n",
      "    * /global/cfs/cdirs/e3sm/www/cdat-migration-fy24/main/diurnal_cycle/TRMM-3B43v-7_3hr/TRMM-3B43v-7_3hr-PRECT-DJF-global.png\n",
      "    * /global/cfs/cdirs/e3sm/www/cdat-migration-fy24/666-diurnal-cycle/diurnal_cycle/TRMM-3B43v-7_3hr/TRMM-3B43v-7_3hr-PRECT-DJF-global.png\n",
      "/global/cfs/cdirs/e3sm/www/cdat-migration-fy24/main/diurnal_cycle/TRMM-3B43v-7_3hr/TRMM-3B43v-7_3hr-PRECT-DJF-global.png\n",
      "Comparing:\n",
      "    * /global/cfs/cdirs/e3sm/www/cdat-migration-fy24/main/diurnal_cycle/TRMM-3B43v-7_3hr/TRMM-3B43v-7_3hr-PRECT-JJA-20S20N.png\n",
      "    * /global/cfs/cdirs/e3sm/www/cdat-migration-fy24/666-diurnal-cycle/diurnal_cycle/TRMM-3B43v-7_3hr/TRMM-3B43v-7_3hr-PRECT-JJA-20S20N.png\n",
      "/global/cfs/cdirs/e3sm/www/cdat-migration-fy24/main/diurnal_cycle/TRMM-3B43v-7_3hr/TRMM-3B43v-7_3hr-PRECT-JJA-20S20N.png\n",
      "Comparing:\n",
      "    * /global/cfs/cdirs/e3sm/www/cdat-migration-fy24/main/diurnal_cycle/TRMM-3B43v-7_3hr/TRMM-3B43v-7_3hr-PRECT-JJA-50S50N.png\n",
      "    * /global/cfs/cdirs/e3sm/www/cdat-migration-fy24/666-diurnal-cycle/diurnal_cycle/TRMM-3B43v-7_3hr/TRMM-3B43v-7_3hr-PRECT-JJA-50S50N.png\n",
      "/global/cfs/cdirs/e3sm/www/cdat-migration-fy24/main/diurnal_cycle/TRMM-3B43v-7_3hr/TRMM-3B43v-7_3hr-PRECT-JJA-50S50N.png\n",
      "Comparing:\n",
      "    * /global/cfs/cdirs/e3sm/www/cdat-migration-fy24/main/diurnal_cycle/TRMM-3B43v-7_3hr/TRMM-3B43v-7_3hr-PRECT-JJA-Amazon.png\n",
      "    * /global/cfs/cdirs/e3sm/www/cdat-migration-fy24/666-diurnal-cycle/diurnal_cycle/TRMM-3B43v-7_3hr/TRMM-3B43v-7_3hr-PRECT-JJA-Amazon.png\n",
      "/global/cfs/cdirs/e3sm/www/cdat-migration-fy24/main/diurnal_cycle/TRMM-3B43v-7_3hr/TRMM-3B43v-7_3hr-PRECT-JJA-Amazon.png\n",
      "Comparing:\n",
      "    * /global/cfs/cdirs/e3sm/www/cdat-migration-fy24/main/diurnal_cycle/TRMM-3B43v-7_3hr/TRMM-3B43v-7_3hr-PRECT-JJA-CONUS.png\n",
      "    * /global/cfs/cdirs/e3sm/www/cdat-migration-fy24/666-diurnal-cycle/diurnal_cycle/TRMM-3B43v-7_3hr/TRMM-3B43v-7_3hr-PRECT-JJA-CONUS.png\n",
      "/global/cfs/cdirs/e3sm/www/cdat-migration-fy24/main/diurnal_cycle/TRMM-3B43v-7_3hr/TRMM-3B43v-7_3hr-PRECT-JJA-CONUS.png\n",
      "Comparing:\n",
      "    * /global/cfs/cdirs/e3sm/www/cdat-migration-fy24/main/diurnal_cycle/TRMM-3B43v-7_3hr/TRMM-3B43v-7_3hr-PRECT-JJA-W_Pacific.png\n",
      "    * /global/cfs/cdirs/e3sm/www/cdat-migration-fy24/666-diurnal-cycle/diurnal_cycle/TRMM-3B43v-7_3hr/TRMM-3B43v-7_3hr-PRECT-JJA-W_Pacific.png\n",
      "/global/cfs/cdirs/e3sm/www/cdat-migration-fy24/main/diurnal_cycle/TRMM-3B43v-7_3hr/TRMM-3B43v-7_3hr-PRECT-JJA-W_Pacific.png\n",
      "Comparing:\n",
      "    * /global/cfs/cdirs/e3sm/www/cdat-migration-fy24/main/diurnal_cycle/TRMM-3B43v-7_3hr/TRMM-3B43v-7_3hr-PRECT-JJA-global.png\n",
      "    * /global/cfs/cdirs/e3sm/www/cdat-migration-fy24/666-diurnal-cycle/diurnal_cycle/TRMM-3B43v-7_3hr/TRMM-3B43v-7_3hr-PRECT-JJA-global.png\n",
      "/global/cfs/cdirs/e3sm/www/cdat-migration-fy24/main/diurnal_cycle/TRMM-3B43v-7_3hr/TRMM-3B43v-7_3hr-PRECT-JJA-global.png\n",
      "Comparing:\n",
      "    * /global/cfs/cdirs/e3sm/www/cdat-migration-fy24/main/diurnal_cycle/TRMM-3B43v-7_3hr/TRMM-3B43v-7_3hr-PRECT-MAM-20S20N.png\n",
      "    * /global/cfs/cdirs/e3sm/www/cdat-migration-fy24/666-diurnal-cycle/diurnal_cycle/TRMM-3B43v-7_3hr/TRMM-3B43v-7_3hr-PRECT-MAM-20S20N.png\n",
      "/global/cfs/cdirs/e3sm/www/cdat-migration-fy24/main/diurnal_cycle/TRMM-3B43v-7_3hr/TRMM-3B43v-7_3hr-PRECT-MAM-20S20N.png\n",
      "Comparing:\n",
      "    * /global/cfs/cdirs/e3sm/www/cdat-migration-fy24/main/diurnal_cycle/TRMM-3B43v-7_3hr/TRMM-3B43v-7_3hr-PRECT-MAM-50S50N.png\n",
      "    * /global/cfs/cdirs/e3sm/www/cdat-migration-fy24/666-diurnal-cycle/diurnal_cycle/TRMM-3B43v-7_3hr/TRMM-3B43v-7_3hr-PRECT-MAM-50S50N.png\n",
      "/global/cfs/cdirs/e3sm/www/cdat-migration-fy24/main/diurnal_cycle/TRMM-3B43v-7_3hr/TRMM-3B43v-7_3hr-PRECT-MAM-50S50N.png\n",
      "Comparing:\n",
      "    * /global/cfs/cdirs/e3sm/www/cdat-migration-fy24/main/diurnal_cycle/TRMM-3B43v-7_3hr/TRMM-3B43v-7_3hr-PRECT-MAM-Amazon.png\n",
      "    * /global/cfs/cdirs/e3sm/www/cdat-migration-fy24/666-diurnal-cycle/diurnal_cycle/TRMM-3B43v-7_3hr/TRMM-3B43v-7_3hr-PRECT-MAM-Amazon.png\n",
      "/global/cfs/cdirs/e3sm/www/cdat-migration-fy24/main/diurnal_cycle/TRMM-3B43v-7_3hr/TRMM-3B43v-7_3hr-PRECT-MAM-Amazon.png\n",
      "Comparing:\n",
      "    * /global/cfs/cdirs/e3sm/www/cdat-migration-fy24/main/diurnal_cycle/TRMM-3B43v-7_3hr/TRMM-3B43v-7_3hr-PRECT-MAM-CONUS.png\n",
      "    * /global/cfs/cdirs/e3sm/www/cdat-migration-fy24/666-diurnal-cycle/diurnal_cycle/TRMM-3B43v-7_3hr/TRMM-3B43v-7_3hr-PRECT-MAM-CONUS.png\n",
      "/global/cfs/cdirs/e3sm/www/cdat-migration-fy24/main/diurnal_cycle/TRMM-3B43v-7_3hr/TRMM-3B43v-7_3hr-PRECT-MAM-CONUS.png\n",
      "Comparing:\n",
      "    * /global/cfs/cdirs/e3sm/www/cdat-migration-fy24/main/diurnal_cycle/TRMM-3B43v-7_3hr/TRMM-3B43v-7_3hr-PRECT-MAM-W_Pacific.png\n",
      "    * /global/cfs/cdirs/e3sm/www/cdat-migration-fy24/666-diurnal-cycle/diurnal_cycle/TRMM-3B43v-7_3hr/TRMM-3B43v-7_3hr-PRECT-MAM-W_Pacific.png\n",
      "/global/cfs/cdirs/e3sm/www/cdat-migration-fy24/main/diurnal_cycle/TRMM-3B43v-7_3hr/TRMM-3B43v-7_3hr-PRECT-MAM-W_Pacific.png\n",
      "Comparing:\n",
      "    * /global/cfs/cdirs/e3sm/www/cdat-migration-fy24/main/diurnal_cycle/TRMM-3B43v-7_3hr/TRMM-3B43v-7_3hr-PRECT-MAM-global.png\n",
      "    * /global/cfs/cdirs/e3sm/www/cdat-migration-fy24/666-diurnal-cycle/diurnal_cycle/TRMM-3B43v-7_3hr/TRMM-3B43v-7_3hr-PRECT-MAM-global.png\n",
      "/global/cfs/cdirs/e3sm/www/cdat-migration-fy24/main/diurnal_cycle/TRMM-3B43v-7_3hr/TRMM-3B43v-7_3hr-PRECT-MAM-global.png\n",
      "Comparing:\n",
      "    * /global/cfs/cdirs/e3sm/www/cdat-migration-fy24/main/diurnal_cycle/TRMM-3B43v-7_3hr/TRMM-3B43v-7_3hr-PRECT-SON-20S20N.png\n",
      "    * /global/cfs/cdirs/e3sm/www/cdat-migration-fy24/666-diurnal-cycle/diurnal_cycle/TRMM-3B43v-7_3hr/TRMM-3B43v-7_3hr-PRECT-SON-20S20N.png\n",
      "/global/cfs/cdirs/e3sm/www/cdat-migration-fy24/main/diurnal_cycle/TRMM-3B43v-7_3hr/TRMM-3B43v-7_3hr-PRECT-SON-20S20N.png\n",
      "Comparing:\n",
      "    * /global/cfs/cdirs/e3sm/www/cdat-migration-fy24/main/diurnal_cycle/TRMM-3B43v-7_3hr/TRMM-3B43v-7_3hr-PRECT-SON-50S50N.png\n",
      "    * /global/cfs/cdirs/e3sm/www/cdat-migration-fy24/666-diurnal-cycle/diurnal_cycle/TRMM-3B43v-7_3hr/TRMM-3B43v-7_3hr-PRECT-SON-50S50N.png\n",
      "/global/cfs/cdirs/e3sm/www/cdat-migration-fy24/main/diurnal_cycle/TRMM-3B43v-7_3hr/TRMM-3B43v-7_3hr-PRECT-SON-50S50N.png\n",
      "Comparing:\n",
      "    * /global/cfs/cdirs/e3sm/www/cdat-migration-fy24/main/diurnal_cycle/TRMM-3B43v-7_3hr/TRMM-3B43v-7_3hr-PRECT-SON-Amazon.png\n",
      "    * /global/cfs/cdirs/e3sm/www/cdat-migration-fy24/666-diurnal-cycle/diurnal_cycle/TRMM-3B43v-7_3hr/TRMM-3B43v-7_3hr-PRECT-SON-Amazon.png\n",
      "/global/cfs/cdirs/e3sm/www/cdat-migration-fy24/main/diurnal_cycle/TRMM-3B43v-7_3hr/TRMM-3B43v-7_3hr-PRECT-SON-Amazon.png\n",
      "Comparing:\n",
      "    * /global/cfs/cdirs/e3sm/www/cdat-migration-fy24/main/diurnal_cycle/TRMM-3B43v-7_3hr/TRMM-3B43v-7_3hr-PRECT-SON-CONUS.png\n",
      "    * /global/cfs/cdirs/e3sm/www/cdat-migration-fy24/666-diurnal-cycle/diurnal_cycle/TRMM-3B43v-7_3hr/TRMM-3B43v-7_3hr-PRECT-SON-CONUS.png\n",
      "/global/cfs/cdirs/e3sm/www/cdat-migration-fy24/main/diurnal_cycle/TRMM-3B43v-7_3hr/TRMM-3B43v-7_3hr-PRECT-SON-CONUS.png\n",
      "Comparing:\n",
      "    * /global/cfs/cdirs/e3sm/www/cdat-migration-fy24/main/diurnal_cycle/TRMM-3B43v-7_3hr/TRMM-3B43v-7_3hr-PRECT-SON-W_Pacific.png\n",
      "    * /global/cfs/cdirs/e3sm/www/cdat-migration-fy24/666-diurnal-cycle/diurnal_cycle/TRMM-3B43v-7_3hr/TRMM-3B43v-7_3hr-PRECT-SON-W_Pacific.png\n",
      "/global/cfs/cdirs/e3sm/www/cdat-migration-fy24/main/diurnal_cycle/TRMM-3B43v-7_3hr/TRMM-3B43v-7_3hr-PRECT-SON-W_Pacific.png\n",
      "Comparing:\n",
      "    * /global/cfs/cdirs/e3sm/www/cdat-migration-fy24/main/diurnal_cycle/TRMM-3B43v-7_3hr/TRMM-3B43v-7_3hr-PRECT-SON-global.png\n",
      "    * /global/cfs/cdirs/e3sm/www/cdat-migration-fy24/666-diurnal-cycle/diurnal_cycle/TRMM-3B43v-7_3hr/TRMM-3B43v-7_3hr-PRECT-SON-global.png\n",
      "/global/cfs/cdirs/e3sm/www/cdat-migration-fy24/main/diurnal_cycle/TRMM-3B43v-7_3hr/TRMM-3B43v-7_3hr-PRECT-SON-global.png\n"
     ]
    }
   ],
   "source": [
    "for main_path, dev_path in zip(MAIN_GLOB, DEV_GLOB):\n",
    "    print(\"Comparing:\")\n",
    "    print(f\"    * {main_path}\")\n",
    "    print(f\"    * {dev_path}\")\n",
    "\n",
    "    try:\n",
    "        get_image_diffs(dev_path, main_path)\n",
    "    except TypeError as e:\n",
    "        if \"cannot unpack non-iterable NoneType object\" in str(e):\n",
    "            print(\"     * Plots are identical\")\n",
    "            continue"
   ]
  },
  {
   "cell_type": "markdown",
   "metadata": {},
   "source": [
    "### Results\n",
    "\n",
    "TODO: FILL THIS IN\n"
   ]
  }
 ],
 "metadata": {
  "kernelspec": {
   "display_name": "cdat_regression_test",
   "language": "python",
   "name": "python3"
  },
  "language_info": {
   "codemirror_mode": {
    "name": "ipython",
    "version": 3
   },
   "file_extension": ".py",
   "mimetype": "text/x-python",
   "name": "python",
   "nbconvert_exporter": "python",
   "pygments_lexer": "ipython3",
   "version": "3.10.14"
  }
 },
 "nbformat": 4,
 "nbformat_minor": 2
}
