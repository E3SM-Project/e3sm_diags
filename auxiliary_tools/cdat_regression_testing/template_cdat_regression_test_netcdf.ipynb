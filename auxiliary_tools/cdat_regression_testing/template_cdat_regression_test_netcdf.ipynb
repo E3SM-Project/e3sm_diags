{
 "cells": [
  {
   "cell_type": "markdown",
   "metadata": {},
   "source": [
    "# CDAT Migration Regression Testing Notebook (`.nc` files)\n",
    "\n",
    "This notebook is used to perform regression testing between the development and\n",
    "production versions of a diagnostic set.\n",
    "\n",
    "## How it works\n",
    "\n",
    "It compares the relative differences (%) between ref and test variables between\n",
    "the dev and `main` branches.\n",
    "\n",
    "## How to use\n",
    "\n",
    "PREREQUISITE: The diagnostic set's netCDF stored in `.json` files in two directories\n",
    "(dev and `main` branches).\n",
    "\n",
    "1. Make a copy of this notebook under `auxiliary_tools/cdat_regression_testing/<DIR_NAME>`.\n",
    "2. Run `mamba create -n cdat_regression_test -y -c conda-forge \"python<3.12\" xarray netcdf4 dask pandas matplotlib-base ipykernel`\n",
    "3. Run `mamba activate cdat_regression_test`\n",
    "4. Update `SET_DIR` and `SET_NAME` in the copy of your notebook.\n",
    "5. Run all cells IN ORDER.\n",
    "6. Review results for any outstanding differences (>=1e-5 relative tolerance).\n",
    "   - Debug these differences (e.g., bug in metrics functions, incorrect variable references, etc.)\n"
   ]
  },
  {
   "cell_type": "markdown",
   "metadata": {},
   "source": [
    "## Setup Code\n"
   ]
  },
  {
   "cell_type": "code",
   "execution_count": 66,
   "metadata": {},
   "outputs": [],
   "source": [
    "from collections import defaultdict\n",
    "import glob\n",
    "from typing import Tuple\n",
    "\n",
    "import numpy as np\n",
    "import xarray as xr\n",
    "from e3sm_diags.derivations.derivations import DERIVED_VARIABLES\n",
    "\n",
    "\n",
    "# TODO: Update SET_NAME and SET_DIR\n",
    "SET_NAME = \"cosp_histogram\"\n",
    "SET_DIR = \"660-cosp-histogram\"\n",
    "\n",
    "DEV_PATH = f\"/global/cfs/cdirs/e3sm/www/cdat-migration-fy24/{SET_DIR}/{SET_NAME}/**\"\n",
    "DEV_GLOB = sorted(glob.glob(DEV_PATH + \"/*.nc\"))\n",
    "DEV_NUM_FILES = len(DEV_GLOB)\n",
    "\n",
    "MAIN_PATH = f\"/global/cfs/cdirs/e3sm/www/cdat-migration-fy24/main/{SET_NAME}/**\"\n",
    "MAIN_GLOB = sorted(glob.glob(MAIN_PATH + \"/*.nc\"))\n",
    "MAIN_NUM_FILES = len(MAIN_GLOB)"
   ]
  },
  {
   "cell_type": "code",
   "execution_count": 67,
   "metadata": {},
   "outputs": [],
   "source": [
    "def _check_if_files_found():\n",
    "    if DEV_NUM_FILES == 0 or MAIN_NUM_FILES == 0:\n",
    "        raise IOError(\n",
    "            \"No files found at DEV_PATH and/or MAIN_PATH. \"\n",
    "            f\"Please check {DEV_PATH} and {MAIN_PATH}.\"\n",
    "        )\n",
    "\n",
    "\n",
    "def _check_if_matching_filecount():\n",
    "    if DEV_NUM_FILES != MAIN_NUM_FILES:\n",
    "        raise IOError(\n",
    "            \"Number of files do not match at DEV_PATH and MAIN_PATH \"\n",
    "            f\"({DEV_NUM_FILES} vs. {MAIN_NUM_FILES}).\"\n",
    "        )\n",
    "\n",
    "    print(f\"Matching file count ({DEV_NUM_FILES} and {MAIN_NUM_FILES}).\")\n",
    "\n",
    "\n",
    "def _check_if_missing_files():\n",
    "    missing_count = 0\n",
    "\n",
    "    for fp_main in MAIN_GLOB:\n",
    "        fp_dev = fp_main.replace(SET_DIR, \"main\")\n",
    "\n",
    "        if fp_dev not in MAIN_GLOB:\n",
    "            print(f\"No production file found to compare with {fp_dev}!\")\n",
    "            missing_count += 1\n",
    "\n",
    "    for fp_dev in DEV_GLOB:\n",
    "        fp_main = fp_main.replace(\"main\", SET_DIR)\n",
    "\n",
    "        if fp_main not in DEV_GLOB:\n",
    "            print(f\"No development file found to compare with {fp_main}!\")\n",
    "            missing_count += 1\n",
    "\n",
    "    print(f\"Number of files missing: {missing_count}\")"
   ]
  },
  {
   "cell_type": "code",
   "execution_count": 68,
   "metadata": {},
   "outputs": [],
   "source": [
    "def _get_relative_diffs():\n",
    "    # We are mainly focusing on relative tolerance here (in percentage terms).\n",
    "    atol = 0\n",
    "    rtol = 1e-5\n",
    "\n",
    "    for fp_main in MAIN_GLOB:\n",
    "        if \"test.nc\" in fp_main or \"ref.nc\" in fp_main:\n",
    "            fp_dev = fp_main.replace(\"main\", SET_DIR)\n",
    "\n",
    "            print(\"Comparing:\")\n",
    "            print(f\"    * {fp_dev}\")\n",
    "            print(f\"    * {fp_main}\")\n",
    "\n",
    "            ds1 = xr.open_dataset(fp_dev)\n",
    "            ds2 = xr.open_dataset(fp_main)\n",
    "\n",
    "            var_key = fp_main.split(\"-\")[-3]\n",
    "            # for 3d vars such as T-200\n",
    "            var_key.isdigit()\n",
    "            if var_key.isdigit():\n",
    "                var_key = fp_main.split(\"-\")[-4]\n",
    "\n",
    "            print(f\"    * var_key: {var_key}\")\n",
    "\n",
    "            dev_data = _get_var_data(ds1, var_key)\n",
    "            main_data = _get_var_data(ds2, var_key)\n",
    "\n",
    "            if dev_data is None or main_data is None:\n",
    "                print(\"    * Could not find variable key in the dataset(s)\")\n",
    "                continue\n",
    "\n",
    "            try:\n",
    "                np.testing.assert_allclose(\n",
    "                    dev_data,\n",
    "                    main_data,\n",
    "                    atol=atol,\n",
    "                    rtol=rtol,\n",
    "                )\n",
    "            except (KeyError, AssertionError) as e:\n",
    "                print(f\"    {e}\")\n",
    "            else:\n",
    "                print(f\"    * All close and within relative tolerance ({rtol})\")\n",
    "\n",
    "\n",
    "def _get_var_data(ds: xr.Dataset, var_key: str) -> np.ndarray:\n",
    "    \"\"\"Get the variable data using a list of matching keys.\n",
    "\n",
    "    The `main` branch saves the dataset using the original variable name,\n",
    "    while the dev branch saves the variable with the derived variable name.\n",
    "    The dev branch is performing the expected behavior here.\n",
    "\n",
    "    Parameters\n",
    "    ----------\n",
    "    ds : xr.Dataset\n",
    "        _description_\n",
    "    var_key : str\n",
    "        _description_\n",
    "\n",
    "    Returns\n",
    "    -------\n",
    "    np.ndarray\n",
    "        _description_\n",
    "    \"\"\"\n",
    "\n",
    "    data = None\n",
    "\n",
    "    var_keys = DERIVED_VARIABLES[var_key].keys()\n",
    "    var_keys = [var_key] + list(sum(var_keys, ()))\n",
    "\n",
    "    for key in var_keys:\n",
    "        if key in ds.data_vars.keys():\n",
    "            data = ds[key].values\n",
    "            break\n",
    "\n",
    "    return data"
   ]
  },
  {
   "cell_type": "markdown",
   "metadata": {},
   "source": [
    "## 1. Check for matching and equal number of files\n"
   ]
  },
  {
   "cell_type": "code",
   "execution_count": 69,
   "metadata": {},
   "outputs": [],
   "source": [
    "_check_if_files_found()"
   ]
  },
  {
   "cell_type": "code",
   "execution_count": 70,
   "metadata": {},
   "outputs": [
    {
     "name": "stdout",
     "output_type": "stream",
     "text": [
      "Number of files missing: 0\n"
     ]
    }
   ],
   "source": [
    "_check_if_missing_files()"
   ]
  },
  {
   "cell_type": "code",
   "execution_count": 71,
   "metadata": {},
   "outputs": [
    {
     "name": "stdout",
     "output_type": "stream",
     "text": [
      "Matching file count (18 and 18).\n"
     ]
    }
   ],
   "source": [
    "_check_if_matching_filecount()"
   ]
  },
  {
   "cell_type": "markdown",
   "metadata": {},
   "source": [
    "## 2 Compare the netCDF files between branches\n",
    "\n",
    "- Compare \"ref\" and \"test\" files\n",
    "- \"diff\" files are ignored because getting relative diffs for these does not make sense (relative diff will be above tolerance)\n"
   ]
  },
  {
   "cell_type": "code",
   "execution_count": 72,
   "metadata": {},
   "outputs": [
    {
     "name": "stdout",
     "output_type": "stream",
     "text": [
      "Comparing:\n",
      "    * /global/cfs/cdirs/e3sm/www/cdat-migration-fy24/660-cosp-histogram/cosp_histogram/ISCCP-COSP/ISCCPCOSP-COSP_HISTOGRAM_ISCCP-ANN-global_ref.nc\n",
      "    * /global/cfs/cdirs/e3sm/www/cdat-migration-fy24/main/cosp_histogram/ISCCP-COSP/ISCCPCOSP-COSP_HISTOGRAM_ISCCP-ANN-global_ref.nc\n",
      "    * var_key: COSP_HISTOGRAM_ISCCP\n",
      "    * All close and within relative tolerance (1e-05)\n",
      "Comparing:\n",
      "    * /global/cfs/cdirs/e3sm/www/cdat-migration-fy24/660-cosp-histogram/cosp_histogram/ISCCP-COSP/ISCCPCOSP-COSP_HISTOGRAM_ISCCP-ANN-global_test.nc\n",
      "    * /global/cfs/cdirs/e3sm/www/cdat-migration-fy24/main/cosp_histogram/ISCCP-COSP/ISCCPCOSP-COSP_HISTOGRAM_ISCCP-ANN-global_test.nc\n",
      "    * var_key: COSP_HISTOGRAM_ISCCP\n",
      "    * All close and within relative tolerance (1e-05)\n",
      "Comparing:\n",
      "    * /global/cfs/cdirs/e3sm/www/cdat-migration-fy24/660-cosp-histogram/cosp_histogram/ISCCP-COSP/ISCCPCOSP-COSP_HISTOGRAM_ISCCP-JJA-global_ref.nc\n",
      "    * /global/cfs/cdirs/e3sm/www/cdat-migration-fy24/main/cosp_histogram/ISCCP-COSP/ISCCPCOSP-COSP_HISTOGRAM_ISCCP-JJA-global_ref.nc\n",
      "    * var_key: COSP_HISTOGRAM_ISCCP\n",
      "    * All close and within relative tolerance (1e-05)\n",
      "Comparing:\n",
      "    * /global/cfs/cdirs/e3sm/www/cdat-migration-fy24/660-cosp-histogram/cosp_histogram/ISCCP-COSP/ISCCPCOSP-COSP_HISTOGRAM_ISCCP-JJA-global_test.nc\n",
      "    * /global/cfs/cdirs/e3sm/www/cdat-migration-fy24/main/cosp_histogram/ISCCP-COSP/ISCCPCOSP-COSP_HISTOGRAM_ISCCP-JJA-global_test.nc\n",
      "    * var_key: COSP_HISTOGRAM_ISCCP\n",
      "    * All close and within relative tolerance (1e-05)\n",
      "Comparing:\n",
      "    * /global/cfs/cdirs/e3sm/www/cdat-migration-fy24/660-cosp-histogram/cosp_histogram/MISR-COSP/MISRCOSP-COSP_HISTOGRAM_MISR-ANN-global_ref.nc\n",
      "    * /global/cfs/cdirs/e3sm/www/cdat-migration-fy24/main/cosp_histogram/MISR-COSP/MISRCOSP-COSP_HISTOGRAM_MISR-ANN-global_ref.nc\n",
      "    * var_key: COSP_HISTOGRAM_MISR\n",
      "    * All close and within relative tolerance (1e-05)\n",
      "Comparing:\n",
      "    * /global/cfs/cdirs/e3sm/www/cdat-migration-fy24/660-cosp-histogram/cosp_histogram/MISR-COSP/MISRCOSP-COSP_HISTOGRAM_MISR-ANN-global_test.nc\n",
      "    * /global/cfs/cdirs/e3sm/www/cdat-migration-fy24/main/cosp_histogram/MISR-COSP/MISRCOSP-COSP_HISTOGRAM_MISR-ANN-global_test.nc\n",
      "    * var_key: COSP_HISTOGRAM_MISR\n",
      "    * All close and within relative tolerance (1e-05)\n",
      "Comparing:\n",
      "    * /global/cfs/cdirs/e3sm/www/cdat-migration-fy24/660-cosp-histogram/cosp_histogram/MISR-COSP/MISRCOSP-COSP_HISTOGRAM_MISR-JJA-global_ref.nc\n",
      "    * /global/cfs/cdirs/e3sm/www/cdat-migration-fy24/main/cosp_histogram/MISR-COSP/MISRCOSP-COSP_HISTOGRAM_MISR-JJA-global_ref.nc\n",
      "    * var_key: COSP_HISTOGRAM_MISR\n",
      "    * All close and within relative tolerance (1e-05)\n",
      "Comparing:\n",
      "    * /global/cfs/cdirs/e3sm/www/cdat-migration-fy24/660-cosp-histogram/cosp_histogram/MISR-COSP/MISRCOSP-COSP_HISTOGRAM_MISR-JJA-global_test.nc\n",
      "    * /global/cfs/cdirs/e3sm/www/cdat-migration-fy24/main/cosp_histogram/MISR-COSP/MISRCOSP-COSP_HISTOGRAM_MISR-JJA-global_test.nc\n",
      "    * var_key: COSP_HISTOGRAM_MISR\n",
      "    * All close and within relative tolerance (1e-05)\n",
      "Comparing:\n",
      "    * /global/cfs/cdirs/e3sm/www/cdat-migration-fy24/660-cosp-histogram/cosp_histogram/MODIS-COSP/MODISCOSP-COSP_HISTOGRAM_MODIS-ANN-global_ref.nc\n",
      "    * /global/cfs/cdirs/e3sm/www/cdat-migration-fy24/main/cosp_histogram/MODIS-COSP/MODISCOSP-COSP_HISTOGRAM_MODIS-ANN-global_ref.nc\n",
      "    * var_key: COSP_HISTOGRAM_MODIS\n",
      "    \n",
      "Not equal to tolerance rtol=1e-05, atol=0\n",
      "\n",
      "Mismatched elements: 42 / 42 (100%)\n",
      "Max absolute difference: 4.23048367e-05\n",
      "Max relative difference: 1.16682146e-05\n",
      " x: array([[0.703907, 2.669376, 3.065526, 1.579834, 0.363847, 0.128541],\n",
      "       [0.147366, 1.152637, 3.67049 , 3.791006, 1.398453, 0.392103],\n",
      "       [0.07496 , 0.474791, 1.37002 , 1.705649, 0.786423, 0.346744],...\n",
      " y: array([[0.703899, 2.669347, 3.065492, 1.579816, 0.363843, 0.12854 ],\n",
      "       [0.147364, 1.152624, 3.670448, 3.790965, 1.398438, 0.392099],\n",
      "       [0.074959, 0.474786, 1.370004, 1.705629, 0.786415, 0.34674 ],...\n",
      "Comparing:\n",
      "    * /global/cfs/cdirs/e3sm/www/cdat-migration-fy24/660-cosp-histogram/cosp_histogram/MODIS-COSP/MODISCOSP-COSP_HISTOGRAM_MODIS-ANN-global_test.nc\n",
      "    * /global/cfs/cdirs/e3sm/www/cdat-migration-fy24/main/cosp_histogram/MODIS-COSP/MODISCOSP-COSP_HISTOGRAM_MODIS-ANN-global_test.nc\n",
      "    * var_key: COSP_HISTOGRAM_MODIS\n",
      "    * All close and within relative tolerance (1e-05)\n",
      "Comparing:\n",
      "    * /global/cfs/cdirs/e3sm/www/cdat-migration-fy24/660-cosp-histogram/cosp_histogram/MODIS-COSP/MODISCOSP-COSP_HISTOGRAM_MODIS-JJA-global_ref.nc\n",
      "    * /global/cfs/cdirs/e3sm/www/cdat-migration-fy24/main/cosp_histogram/MODIS-COSP/MODISCOSP-COSP_HISTOGRAM_MODIS-JJA-global_ref.nc\n",
      "    * var_key: COSP_HISTOGRAM_MODIS\n",
      "    \n",
      "Not equal to tolerance rtol=1e-05, atol=0\n",
      "\n",
      "Mismatched elements: 42 / 42 (100%)\n",
      "Max absolute difference: 4.91806181e-05\n",
      "Max relative difference: 1.3272405e-05\n",
      " x: array([[0.62896 , 2.657657, 3.206268, 1.704946, 0.398659, 0.169424],\n",
      "       [0.147569, 1.228835, 3.697387, 3.727142, 1.223123, 0.436504],\n",
      "       [0.072129, 0.508413, 1.167637, 1.412202, 0.638085, 0.362268],...\n",
      " y: array([[0.628952, 2.657625, 3.206227, 1.704924, 0.398654, 0.169422],\n",
      "       [0.147567, 1.228819, 3.697338, 3.727093, 1.223107, 0.436498],\n",
      "       [0.072128, 0.508407, 1.167622, 1.412183, 0.638076, 0.362263],...\n",
      "Comparing:\n",
      "    * /global/cfs/cdirs/e3sm/www/cdat-migration-fy24/660-cosp-histogram/cosp_histogram/MODIS-COSP/MODISCOSP-COSP_HISTOGRAM_MODIS-JJA-global_test.nc\n",
      "    * /global/cfs/cdirs/e3sm/www/cdat-migration-fy24/main/cosp_histogram/MODIS-COSP/MODISCOSP-COSP_HISTOGRAM_MODIS-JJA-global_test.nc\n",
      "    * var_key: COSP_HISTOGRAM_MODIS\n",
      "    * All close and within relative tolerance (1e-05)\n"
     ]
    }
   ],
   "source": [
    "_get_relative_diffs()"
   ]
  },
  {
   "cell_type": "markdown",
   "metadata": {},
   "source": [
    "### Results\n",
    "\n",
    "All files are within rtol 1e-5, so the changes should be good to go. There are two\n",
    "that seem like they are about rtol, but they aren't (still around 1e-5).\n"
   ]
  },
  {
   "cell_type": "markdown",
   "metadata": {},
   "source": []
  }
 ],
 "metadata": {
  "kernelspec": {
   "display_name": "cdat_regression_test",
   "language": "python",
   "name": "python3"
  },
  "language_info": {
   "codemirror_mode": {
    "name": "ipython",
    "version": 3
   },
   "file_extension": ".py",
   "mimetype": "text/x-python",
   "name": "python",
   "nbconvert_exporter": "python",
   "pygments_lexer": "ipython3",
   "version": "3.10.12"
  }
 },
 "nbformat": 4,
 "nbformat_minor": 2
}
