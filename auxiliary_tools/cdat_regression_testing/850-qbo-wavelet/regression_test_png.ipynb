{
 "cells": [
  {
   "cell_type": "markdown",
   "metadata": {},
   "source": [
    "# CDAT Migration Regression Testing Notebook (`.png` files)\n",
    "\n",
    "This notebook is used to perform regression testing between the development and\n",
    "production versions of a diagnostic set.\n",
    "\n",
    "## How to use\n",
    "\n",
    "PREREQUISITE: The diagnostic set's netCDF stored in `.json` files in two directories\n",
    "(dev and `main` branches).\n",
    "\n",
    "1. Make a copy of this notebook under `auxiliary_tools/cdat_regression_testing/<DIR_NAME>`.\n",
    "2. Run `mamba create -n cdat_regression_test -y -c conda-forge \"python<3.12\" xarray netcdf4 dask pandas matplotlib-base ipykernel`\n",
    "3. Run `mamba activate cdat_regression_test`\n",
    "4. Update `SET_DIR` and `SET_NAME` in the copy of your notebook.\n",
    "5. Run all cells IN ORDER.\n"
   ]
  },
  {
   "cell_type": "markdown",
   "metadata": {},
   "source": [
    "## Setup Code\n"
   ]
  },
  {
   "cell_type": "code",
   "execution_count": 24,
   "metadata": {},
   "outputs": [],
   "source": [
    "import glob\n",
    "\n",
    "from auxiliary_tools.cdat_regression_testing.utils import get_image_diffs\n",
    "\n",
    "SET_NAME = \"qbo\"\n",
    "SET_DIR = \"850-qbo-wavelet\"\n",
    "\n",
    "DEV_PATH = f\"/global/cfs/cdirs/e3sm/www/cdat-migration-fy24/{SET_DIR}/{SET_NAME}/**\"\n",
    "DEV_GLOB = sorted(glob.glob(DEV_PATH + \"/*.png\"))\n",
    "DEV_NUM_FILES = len(DEV_GLOB)\n",
    "\n",
    "MAIN_PATH = (\n",
    "    f\"/global/cfs/cdirs/e3sm/www/cdat-migration-fy24/main-qbo-wavelet/{SET_NAME}/**\"\n",
    ")\n",
    "MAIN_GLOB = sorted(glob.glob(MAIN_PATH + \"/*.png\"))\n",
    "MAIN_NUM_FILES = len(MAIN_GLOB)"
   ]
  },
  {
   "cell_type": "code",
   "execution_count": 25,
   "metadata": {},
   "outputs": [],
   "source": [
    "def _check_if_files_found():\n",
    "    if DEV_NUM_FILES == 0 or MAIN_NUM_FILES == 0:\n",
    "        raise IOError(\n",
    "            \"No files found at DEV_PATH and/or MAIN_PATH. \"\n",
    "            f\"Please check {DEV_PATH} and {MAIN_PATH}.\"\n",
    "        )\n",
    "\n",
    "\n",
    "def _check_if_matching_filecount():\n",
    "    if DEV_NUM_FILES != MAIN_NUM_FILES:\n",
    "        raise IOError(\n",
    "            \"Number of files do not match at DEV_PATH and MAIN_PATH \"\n",
    "            f\"({DEV_NUM_FILES} vs. {MAIN_NUM_FILES}).\"\n",
    "        )\n",
    "\n",
    "    print(f\"Matching file count ({DEV_NUM_FILES} and {MAIN_NUM_FILES}).\")\n",
    "\n",
    "\n",
    "def _check_if_missing_files():\n",
    "    missing_count = 0\n",
    "\n",
    "    for fp_main in MAIN_GLOB:\n",
    "        fp_dev = fp_main.replace(SET_DIR, \"main-qbo-wavelet\")\n",
    "\n",
    "        if fp_dev not in MAIN_GLOB:\n",
    "            print(f\"No production file found to compare with {fp_dev}!\")\n",
    "            missing_count += 1\n",
    "\n",
    "    for fp_dev in DEV_GLOB:\n",
    "        if \"diff\" not in fp_dev:\n",
    "            fp_main = fp_dev.replace(\"main-qbo-wavelet\", SET_DIR)\n",
    "\n",
    "            if fp_main not in DEV_GLOB:\n",
    "                print(f\"No development file found to compare with {fp_main}!\")\n",
    "                missing_count += 1\n",
    "\n",
    "    print(f\"Number of files missing: {missing_count}\")"
   ]
  },
  {
   "cell_type": "markdown",
   "metadata": {},
   "source": [
    "## 1. Check for matching and equal number of files\n"
   ]
  },
  {
   "cell_type": "code",
   "execution_count": 26,
   "metadata": {},
   "outputs": [],
   "source": [
    "_check_if_files_found()"
   ]
  },
  {
   "cell_type": "code",
   "execution_count": 27,
   "metadata": {},
   "outputs": [
    {
     "name": "stdout",
     "output_type": "stream",
     "text": [
      "Number of files missing: 0\n"
     ]
    }
   ],
   "source": [
    "_check_if_missing_files()"
   ]
  },
  {
   "cell_type": "code",
   "execution_count": 28,
   "metadata": {},
   "outputs": [
    {
     "ename": "OSError",
     "evalue": "Number of files do not match at DEV_PATH and MAIN_PATH (2 vs. 1).",
     "output_type": "error",
     "traceback": [
      "\u001b[0;31m---------------------------------------------------------------------------\u001b[0m",
      "\u001b[0;31mOSError\u001b[0m                                   Traceback (most recent call last)",
      "Cell \u001b[0;32mIn[28], line 1\u001b[0m\n\u001b[0;32m----> 1\u001b[0m \u001b[43m_check_if_matching_filecount\u001b[49m\u001b[43m(\u001b[49m\u001b[43m)\u001b[49m\n",
      "Cell \u001b[0;32mIn[25], line 11\u001b[0m, in \u001b[0;36m_check_if_matching_filecount\u001b[0;34m()\u001b[0m\n\u001b[1;32m      9\u001b[0m \u001b[38;5;28;01mdef\u001b[39;00m \u001b[38;5;21m_check_if_matching_filecount\u001b[39m():\n\u001b[1;32m     10\u001b[0m     \u001b[38;5;28;01mif\u001b[39;00m DEV_NUM_FILES \u001b[38;5;241m!=\u001b[39m MAIN_NUM_FILES:\n\u001b[0;32m---> 11\u001b[0m         \u001b[38;5;28;01mraise\u001b[39;00m \u001b[38;5;167;01mIOError\u001b[39;00m(\n\u001b[1;32m     12\u001b[0m             \u001b[38;5;124m\"\u001b[39m\u001b[38;5;124mNumber of files do not match at DEV_PATH and MAIN_PATH \u001b[39m\u001b[38;5;124m\"\u001b[39m\n\u001b[1;32m     13\u001b[0m             \u001b[38;5;124mf\u001b[39m\u001b[38;5;124m\"\u001b[39m\u001b[38;5;124m(\u001b[39m\u001b[38;5;132;01m{\u001b[39;00mDEV_NUM_FILES\u001b[38;5;132;01m}\u001b[39;00m\u001b[38;5;124m vs. \u001b[39m\u001b[38;5;132;01m{\u001b[39;00mMAIN_NUM_FILES\u001b[38;5;132;01m}\u001b[39;00m\u001b[38;5;124m).\u001b[39m\u001b[38;5;124m\"\u001b[39m\n\u001b[1;32m     14\u001b[0m         )\n\u001b[1;32m     16\u001b[0m     \u001b[38;5;28mprint\u001b[39m(\u001b[38;5;124mf\u001b[39m\u001b[38;5;124m\"\u001b[39m\u001b[38;5;124mMatching file count (\u001b[39m\u001b[38;5;132;01m{\u001b[39;00mDEV_NUM_FILES\u001b[38;5;132;01m}\u001b[39;00m\u001b[38;5;124m and \u001b[39m\u001b[38;5;132;01m{\u001b[39;00mMAIN_NUM_FILES\u001b[38;5;132;01m}\u001b[39;00m\u001b[38;5;124m).\u001b[39m\u001b[38;5;124m\"\u001b[39m)\n",
      "\u001b[0;31mOSError\u001b[0m: Number of files do not match at DEV_PATH and MAIN_PATH (2 vs. 1)."
     ]
    }
   ],
   "source": [
    "_check_if_matching_filecount()"
   ]
  },
  {
   "cell_type": "markdown",
   "metadata": {},
   "source": [
    "## 2 Compare the plots between branches\n",
    "\n",
    "- Compare \"ref\" and \"test\" files\n",
    "- \"diff\" files are ignored because getting relative diffs for these does not make sense (relative diff will be above tolerance)\n"
   ]
  },
  {
   "cell_type": "code",
   "execution_count": 29,
   "metadata": {},
   "outputs": [
    {
     "name": "stdout",
     "output_type": "stream",
     "text": [
      "Comparing:\n",
      "    * /global/cfs/cdirs/e3sm/www/cdat-migration-fy24/main-qbo-wavelet/qbo/QBO-ERA-Interim/qbo_diags.png\n",
      "    * /global/cfs/cdirs/e3sm/www/cdat-migration-fy24/850-qbo-wavelet/qbo/QBO-ERA-Interim/qbo_diags.png\n",
      "     * Difference path /global/cfs/cdirs/e3sm/www/cdat-migration-fy24/850-qbo-wavelet/qbo/QBO-ERA-Interim_diff/qbo_diags.png\n"
     ]
    }
   ],
   "source": [
    "for main_path, dev_path in zip(MAIN_GLOB, DEV_GLOB):\n",
    "    print(\"Comparing:\")\n",
    "    print(f\"    * {main_path}\")\n",
    "    print(f\"    * {dev_path}\")\n",
    "\n",
    "    get_image_diffs(dev_path, main_path)"
   ]
  },
  {
   "cell_type": "markdown",
   "metadata": {},
   "source": [
    "### Results\n",
    "\n",
    "All plots are identical\n"
   ]
  },
  {
   "cell_type": "markdown",
   "metadata": {},
   "source": []
  }
 ],
 "metadata": {
  "kernelspec": {
   "display_name": "cdat_regression_test",
   "language": "python",
   "name": "python3"
  },
  "language_info": {
   "codemirror_mode": {
    "name": "ipython",
    "version": 3
   },
   "file_extension": ".py",
   "mimetype": "text/x-python",
   "name": "python",
   "nbconvert_exporter": "python",
   "pygments_lexer": "ipython3",
   "version": "3.10.14"
  }
 },
 "nbformat": 4,
 "nbformat_minor": 2
}
