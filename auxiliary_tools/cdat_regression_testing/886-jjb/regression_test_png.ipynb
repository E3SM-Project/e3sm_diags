{
 "cells": [
  {
   "cell_type": "markdown",
   "metadata": {},
   "source": [
    "# CDAT Migration Regression Testing Notebook (`.png` files)\n",
    "\n",
    "This notebook is used to perform regression testing between the development and\n",
    "production versions of a diagnostic set.\n",
    "\n",
    "## How to use\n",
    "\n",
    "PREREQUISITE: The diagnostic set's netCDF stored in `.json` files in two directories\n",
    "(dev and `main` branches).\n",
    "\n",
    "1. Make a copy of this notebook under `auxiliary_tools/cdat_regression_testing/<DIR_NAME>`.\n",
    "2. Run `mamba create -n cdat_regression_test -y -c conda-forge \"python<3.12\" xarray netcdf4 dask pandas matplotlib-base ipykernel`\n",
    "3. Run `mamba activate cdat_regression_test`\n",
    "4. Update `SET_DIR` and `SET_NAME` in the copy of your notebook.\n",
    "5. Run all cells IN ORDER.\n"
   ]
  },
  {
   "cell_type": "markdown",
   "metadata": {},
   "source": [
    "## Setup Code\n"
   ]
  },
  {
   "cell_type": "code",
   "execution_count": 1,
   "metadata": {},
   "outputs": [],
   "source": [
    "import glob\n",
    "\n",
    "from auxiliary_tools.cdat_regression_testing.utils import get_image_diffs\n",
    "\n",
    "SET_NAME = \"tropical_subseasonal\"\n",
    "SET_DIR = \"886-jjb\"\n",
    "\n",
    "DEV_PATH = f\"/global/cfs/cdirs/e3sm/www/cdat-migration-fy24/{SET_DIR}/{SET_NAME}/wavenumber-frequency/\"\n",
    "DEV_GLOB = sorted(glob.glob(DEV_PATH + \"/*.png\"))\n",
    "DEV_NUM_FILES = len(DEV_GLOB)\n",
    "\n",
    "MAIN_PATH = f\"/global/cfs/cdirs/e3sm/www/chengzhu/tests/tropical_diags_subsetting/tropical_variability_model_obs_refine/{SET_NAME}/wavenumber-frequency/\"\n",
    "MAIN_GLOB = sorted(glob.glob(MAIN_PATH + \"/*.png\"))\n",
    "MAIN_NUM_FILES = len(MAIN_GLOB)"
   ]
  },
  {
   "cell_type": "code",
   "execution_count": 2,
   "metadata": {},
   "outputs": [],
   "source": [
    "def _check_if_matching_filecount():\n",
    "    if DEV_NUM_FILES != MAIN_NUM_FILES:\n",
    "        raise IOError(\n",
    "            \"Number of files do not match at DEV_PATH and MAIN_PATH \"\n",
    "            f\"({DEV_NUM_FILES} vs. {MAIN_NUM_FILES}).\"\n",
    "        )\n",
    "\n",
    "    print(f\"Matching file count ({DEV_NUM_FILES} and {MAIN_NUM_FILES}).\")"
   ]
  },
  {
   "cell_type": "markdown",
   "metadata": {},
   "source": [
    "## 1. Check for matching and equal number of files\n"
   ]
  },
  {
   "cell_type": "code",
   "execution_count": 3,
   "metadata": {},
   "outputs": [
    {
     "name": "stdout",
     "output_type": "stream",
     "text": [
      "Matching file count (21 and 21).\n"
     ]
    }
   ],
   "source": [
    "_check_if_matching_filecount()"
   ]
  },
  {
   "cell_type": "markdown",
   "metadata": {},
   "source": [
    "## 2 Compare the plots between branches\n",
    "\n",
    "- Compare \"ref\" and \"test\" files\n",
    "- \"diff\" files are ignored because getting relative diffs for these does not make sense (relative diff will be above tolerance)\n"
   ]
  },
  {
   "cell_type": "code",
   "execution_count": 4,
   "metadata": {},
   "outputs": [
    {
     "name": "stdout",
     "output_type": "stream",
     "text": [
      "Comparing:\n",
      "    * /global/cfs/cdirs/e3sm/www/chengzhu/tests/tropical_diags_subsetting/tropical_variability_model_obs_refine/tropical_subseasonal/wavenumber-frequency/FLUT_background_15N-15S.png\n",
      "    * /global/cfs/cdirs/e3sm/www/cdat-migration-fy24/886-jjb/tropical_subseasonal/wavenumber-frequency/FLUT_background_15N-15S.png\n",
      "     * Plots are identical\n",
      "Comparing:\n",
      "    * /global/cfs/cdirs/e3sm/www/chengzhu/tests/tropical_diags_subsetting/tropical_variability_model_obs_refine/tropical_subseasonal/wavenumber-frequency/FLUT_norm_asy_15N-15S.png\n",
      "    * /global/cfs/cdirs/e3sm/www/cdat-migration-fy24/886-jjb/tropical_subseasonal/wavenumber-frequency/FLUT_norm_asy_15N-15S.png\n",
      "     * Difference path /global/cfs/cdirs/e3sm/www/cdat-migration-fy24/886-jjb/tropical_subseasonal/wavenumber-frequency_diff/FLUT_norm_asy_15N-15S.png\n",
      "Comparing:\n",
      "    * /global/cfs/cdirs/e3sm/www/chengzhu/tests/tropical_diags_subsetting/tropical_variability_model_obs_refine/tropical_subseasonal/wavenumber-frequency/FLUT_norm_asy_zoom_15N-15S.png\n",
      "    * /global/cfs/cdirs/e3sm/www/cdat-migration-fy24/886-jjb/tropical_subseasonal/wavenumber-frequency/FLUT_norm_asy_zoom_15N-15S.png\n",
      "     * Difference path /global/cfs/cdirs/e3sm/www/cdat-migration-fy24/886-jjb/tropical_subseasonal/wavenumber-frequency_diff/FLUT_norm_asy_zoom_15N-15S.png\n",
      "Comparing:\n",
      "    * /global/cfs/cdirs/e3sm/www/chengzhu/tests/tropical_diags_subsetting/tropical_variability_model_obs_refine/tropical_subseasonal/wavenumber-frequency/FLUT_norm_sym_15N-15S.png\n",
      "    * /global/cfs/cdirs/e3sm/www/cdat-migration-fy24/886-jjb/tropical_subseasonal/wavenumber-frequency/FLUT_norm_sym_15N-15S.png\n",
      "     * Difference path /global/cfs/cdirs/e3sm/www/cdat-migration-fy24/886-jjb/tropical_subseasonal/wavenumber-frequency_diff/FLUT_norm_sym_15N-15S.png\n",
      "Comparing:\n",
      "    * /global/cfs/cdirs/e3sm/www/chengzhu/tests/tropical_diags_subsetting/tropical_variability_model_obs_refine/tropical_subseasonal/wavenumber-frequency/FLUT_norm_sym_zoom_15N-15S.png\n",
      "    * /global/cfs/cdirs/e3sm/www/cdat-migration-fy24/886-jjb/tropical_subseasonal/wavenumber-frequency/FLUT_norm_sym_zoom_15N-15S.png\n",
      "     * Difference path /global/cfs/cdirs/e3sm/www/cdat-migration-fy24/886-jjb/tropical_subseasonal/wavenumber-frequency_diff/FLUT_norm_sym_zoom_15N-15S.png\n",
      "Comparing:\n",
      "    * /global/cfs/cdirs/e3sm/www/chengzhu/tests/tropical_diags_subsetting/tropical_variability_model_obs_refine/tropical_subseasonal/wavenumber-frequency/FLUT_raw_asy_15N-15S.png\n",
      "    * /global/cfs/cdirs/e3sm/www/cdat-migration-fy24/886-jjb/tropical_subseasonal/wavenumber-frequency/FLUT_raw_asy_15N-15S.png\n",
      "     * Difference path /global/cfs/cdirs/e3sm/www/cdat-migration-fy24/886-jjb/tropical_subseasonal/wavenumber-frequency_diff/FLUT_raw_asy_15N-15S.png\n",
      "Comparing:\n",
      "    * /global/cfs/cdirs/e3sm/www/chengzhu/tests/tropical_diags_subsetting/tropical_variability_model_obs_refine/tropical_subseasonal/wavenumber-frequency/FLUT_raw_sym_15N-15S.png\n",
      "    * /global/cfs/cdirs/e3sm/www/cdat-migration-fy24/886-jjb/tropical_subseasonal/wavenumber-frequency/FLUT_raw_sym_15N-15S.png\n",
      "     * Difference path /global/cfs/cdirs/e3sm/www/cdat-migration-fy24/886-jjb/tropical_subseasonal/wavenumber-frequency_diff/FLUT_raw_sym_15N-15S.png\n",
      "Comparing:\n",
      "    * /global/cfs/cdirs/e3sm/www/chengzhu/tests/tropical_diags_subsetting/tropical_variability_model_obs_refine/tropical_subseasonal/wavenumber-frequency/PRECT_background_15N-15S.png\n",
      "    * /global/cfs/cdirs/e3sm/www/cdat-migration-fy24/886-jjb/tropical_subseasonal/wavenumber-frequency/PRECT_background_15N-15S.png\n",
      "     * Plots are identical\n",
      "Comparing:\n",
      "    * /global/cfs/cdirs/e3sm/www/chengzhu/tests/tropical_diags_subsetting/tropical_variability_model_obs_refine/tropical_subseasonal/wavenumber-frequency/PRECT_norm_asy_15N-15S.png\n",
      "    * /global/cfs/cdirs/e3sm/www/cdat-migration-fy24/886-jjb/tropical_subseasonal/wavenumber-frequency/PRECT_norm_asy_15N-15S.png\n",
      "     * Difference path /global/cfs/cdirs/e3sm/www/cdat-migration-fy24/886-jjb/tropical_subseasonal/wavenumber-frequency_diff/PRECT_norm_asy_15N-15S.png\n",
      "Comparing:\n",
      "    * /global/cfs/cdirs/e3sm/www/chengzhu/tests/tropical_diags_subsetting/tropical_variability_model_obs_refine/tropical_subseasonal/wavenumber-frequency/PRECT_norm_asy_zoom_15N-15S.png\n",
      "    * /global/cfs/cdirs/e3sm/www/cdat-migration-fy24/886-jjb/tropical_subseasonal/wavenumber-frequency/PRECT_norm_asy_zoom_15N-15S.png\n",
      "     * Difference path /global/cfs/cdirs/e3sm/www/cdat-migration-fy24/886-jjb/tropical_subseasonal/wavenumber-frequency_diff/PRECT_norm_asy_zoom_15N-15S.png\n",
      "Comparing:\n",
      "    * /global/cfs/cdirs/e3sm/www/chengzhu/tests/tropical_diags_subsetting/tropical_variability_model_obs_refine/tropical_subseasonal/wavenumber-frequency/PRECT_norm_sym_15N-15S.png\n",
      "    * /global/cfs/cdirs/e3sm/www/cdat-migration-fy24/886-jjb/tropical_subseasonal/wavenumber-frequency/PRECT_norm_sym_15N-15S.png\n",
      "     * Difference path /global/cfs/cdirs/e3sm/www/cdat-migration-fy24/886-jjb/tropical_subseasonal/wavenumber-frequency_diff/PRECT_norm_sym_15N-15S.png\n",
      "Comparing:\n",
      "    * /global/cfs/cdirs/e3sm/www/chengzhu/tests/tropical_diags_subsetting/tropical_variability_model_obs_refine/tropical_subseasonal/wavenumber-frequency/PRECT_norm_sym_zoom_15N-15S.png\n",
      "    * /global/cfs/cdirs/e3sm/www/cdat-migration-fy24/886-jjb/tropical_subseasonal/wavenumber-frequency/PRECT_norm_sym_zoom_15N-15S.png\n",
      "     * Difference path /global/cfs/cdirs/e3sm/www/cdat-migration-fy24/886-jjb/tropical_subseasonal/wavenumber-frequency_diff/PRECT_norm_sym_zoom_15N-15S.png\n",
      "Comparing:\n",
      "    * /global/cfs/cdirs/e3sm/www/chengzhu/tests/tropical_diags_subsetting/tropical_variability_model_obs_refine/tropical_subseasonal/wavenumber-frequency/PRECT_raw_asy_15N-15S.png\n",
      "    * /global/cfs/cdirs/e3sm/www/cdat-migration-fy24/886-jjb/tropical_subseasonal/wavenumber-frequency/PRECT_raw_asy_15N-15S.png\n",
      "     * Difference path /global/cfs/cdirs/e3sm/www/cdat-migration-fy24/886-jjb/tropical_subseasonal/wavenumber-frequency_diff/PRECT_raw_asy_15N-15S.png\n",
      "Comparing:\n",
      "    * /global/cfs/cdirs/e3sm/www/chengzhu/tests/tropical_diags_subsetting/tropical_variability_model_obs_refine/tropical_subseasonal/wavenumber-frequency/PRECT_raw_sym_15N-15S.png\n",
      "    * /global/cfs/cdirs/e3sm/www/cdat-migration-fy24/886-jjb/tropical_subseasonal/wavenumber-frequency/PRECT_raw_sym_15N-15S.png\n",
      "     * Difference path /global/cfs/cdirs/e3sm/www/cdat-migration-fy24/886-jjb/tropical_subseasonal/wavenumber-frequency_diff/PRECT_raw_sym_15N-15S.png\n",
      "Comparing:\n",
      "    * /global/cfs/cdirs/e3sm/www/chengzhu/tests/tropical_diags_subsetting/tropical_variability_model_obs_refine/tropical_subseasonal/wavenumber-frequency/U850_background_15N-15S.png\n",
      "    * /global/cfs/cdirs/e3sm/www/cdat-migration-fy24/886-jjb/tropical_subseasonal/wavenumber-frequency/U850_background_15N-15S.png\n",
      "     * Plots are identical\n",
      "Comparing:\n",
      "    * /global/cfs/cdirs/e3sm/www/chengzhu/tests/tropical_diags_subsetting/tropical_variability_model_obs_refine/tropical_subseasonal/wavenumber-frequency/U850_norm_asy_15N-15S.png\n",
      "    * /global/cfs/cdirs/e3sm/www/cdat-migration-fy24/886-jjb/tropical_subseasonal/wavenumber-frequency/U850_norm_asy_15N-15S.png\n",
      "     * Difference path /global/cfs/cdirs/e3sm/www/cdat-migration-fy24/886-jjb/tropical_subseasonal/wavenumber-frequency_diff/U850_norm_asy_15N-15S.png\n",
      "Comparing:\n",
      "    * /global/cfs/cdirs/e3sm/www/chengzhu/tests/tropical_diags_subsetting/tropical_variability_model_obs_refine/tropical_subseasonal/wavenumber-frequency/U850_norm_asy_zoom_15N-15S.png\n",
      "    * /global/cfs/cdirs/e3sm/www/cdat-migration-fy24/886-jjb/tropical_subseasonal/wavenumber-frequency/U850_norm_asy_zoom_15N-15S.png\n",
      "     * Difference path /global/cfs/cdirs/e3sm/www/cdat-migration-fy24/886-jjb/tropical_subseasonal/wavenumber-frequency_diff/U850_norm_asy_zoom_15N-15S.png\n",
      "Comparing:\n",
      "    * /global/cfs/cdirs/e3sm/www/chengzhu/tests/tropical_diags_subsetting/tropical_variability_model_obs_refine/tropical_subseasonal/wavenumber-frequency/U850_norm_sym_15N-15S.png\n",
      "    * /global/cfs/cdirs/e3sm/www/cdat-migration-fy24/886-jjb/tropical_subseasonal/wavenumber-frequency/U850_norm_sym_15N-15S.png\n",
      "     * Difference path /global/cfs/cdirs/e3sm/www/cdat-migration-fy24/886-jjb/tropical_subseasonal/wavenumber-frequency_diff/U850_norm_sym_15N-15S.png\n",
      "Comparing:\n",
      "    * /global/cfs/cdirs/e3sm/www/chengzhu/tests/tropical_diags_subsetting/tropical_variability_model_obs_refine/tropical_subseasonal/wavenumber-frequency/U850_norm_sym_zoom_15N-15S.png\n",
      "    * /global/cfs/cdirs/e3sm/www/cdat-migration-fy24/886-jjb/tropical_subseasonal/wavenumber-frequency/U850_norm_sym_zoom_15N-15S.png\n",
      "     * Difference path /global/cfs/cdirs/e3sm/www/cdat-migration-fy24/886-jjb/tropical_subseasonal/wavenumber-frequency_diff/U850_norm_sym_zoom_15N-15S.png\n",
      "Comparing:\n",
      "    * /global/cfs/cdirs/e3sm/www/chengzhu/tests/tropical_diags_subsetting/tropical_variability_model_obs_refine/tropical_subseasonal/wavenumber-frequency/U850_raw_asy_15N-15S.png\n",
      "    * /global/cfs/cdirs/e3sm/www/cdat-migration-fy24/886-jjb/tropical_subseasonal/wavenumber-frequency/U850_raw_asy_15N-15S.png\n",
      "     * Difference path /global/cfs/cdirs/e3sm/www/cdat-migration-fy24/886-jjb/tropical_subseasonal/wavenumber-frequency_diff/U850_raw_asy_15N-15S.png\n",
      "Comparing:\n",
      "    * /global/cfs/cdirs/e3sm/www/chengzhu/tests/tropical_diags_subsetting/tropical_variability_model_obs_refine/tropical_subseasonal/wavenumber-frequency/U850_raw_sym_15N-15S.png\n",
      "    * /global/cfs/cdirs/e3sm/www/cdat-migration-fy24/886-jjb/tropical_subseasonal/wavenumber-frequency/U850_raw_sym_15N-15S.png\n",
      "     * Difference path /global/cfs/cdirs/e3sm/www/cdat-migration-fy24/886-jjb/tropical_subseasonal/wavenumber-frequency_diff/U850_raw_sym_15N-15S.png\n"
     ]
    }
   ],
   "source": [
    "for main_path, dev_path in zip(MAIN_GLOB, DEV_GLOB):\n",
    "    print(\"Comparing:\")\n",
    "    print(f\"    * {main_path}\")\n",
    "    print(f\"    * {dev_path}\")\n",
    "\n",
    "    get_image_diffs(dev_path, main_path)"
   ]
  },
  {
   "cell_type": "markdown",
   "metadata": {},
   "source": [
    "### Results\n",
    "\n",
    "All plots are virtually identical, only diff is a red outline around plots (positioning\n",
    "diff probably due to different matplotlib version).\n"
   ]
  }
 ],
 "metadata": {
  "kernelspec": {
   "display_name": "Python 3",
   "language": "python",
   "name": "python3"
  },
  "language_info": {
   "codemirror_mode": {
    "name": "ipython",
    "version": 3
   },
   "file_extension": ".py",
   "mimetype": "text/x-python",
   "name": "python",
   "nbconvert_exporter": "python",
   "pygments_lexer": "ipython3",
   "version": "3.10.14"
  }
 },
 "nbformat": 4,
 "nbformat_minor": 2
}
