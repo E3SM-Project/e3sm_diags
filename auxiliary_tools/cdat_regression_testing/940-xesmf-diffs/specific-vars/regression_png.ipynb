{
 "cells": [
  {
   "cell_type": "markdown",
   "metadata": {},
   "source": [
    "# CDAT Migration Regression Testing Notebook (`.png` files)\n",
    "\n",
    "This notebook is used to perform regression testing between the development and\n",
    "production versions of a diagnostic set.\n",
    "\n",
    "## How to use\n",
    "\n",
    "PREREQUISITE: The diagnostic set's netCDF stored in `.json` files in two directories\n",
    "(dev and `main` branches).\n",
    "\n",
    "1. Make a copy of this notebook under `auxiliary_tools/cdat_regression_testing/<DIR_NAME>`.\n",
    "2. Run `mamba create -n cdat_regression_test -y -c conda-forge \"python<3.12\" xarray netcdf4 dask pandas matplotlib-base ipykernel`\n",
    "3. Run `mamba activate cdat_regression_test`\n",
    "4. Update `SET_DIR` and `SET_NAME` in the copy of your notebook.\n",
    "5. Run all cells IN ORDER.\n"
   ]
  },
  {
   "cell_type": "markdown",
   "metadata": {},
   "source": [
    "## Setup Code\n"
   ]
  },
  {
   "cell_type": "code",
   "execution_count": 1,
   "metadata": {},
   "outputs": [],
   "source": [
    "import glob\n",
    "from typing import List\n",
    "\n",
    "from auxiliary_tools.cdat_regression_testing.utils import get_image_diffs\n",
    "\n",
    "DEV_DIR = \"25-02-18-branch-940-xesmf-diffs\"\n",
    "DEV_PATH = f\"/lcrc/group/e3sm/public_html/cdat-migration-fy24/{DEV_DIR}/\"\n",
    "\n",
    "DEV_GLOB = sorted(glob.glob(DEV_PATH + \"**/**/*.png\"))\n",
    "DEV_NUM_FILES = len(DEV_GLOB)\n",
    "\n",
    "MAIN_DIR = \"25-02-04-main-zppy-diffs\"\n",
    "MAIN_PATH = f\"/lcrc/group/e3sm/public_html/cdat-migration-fy24/{MAIN_DIR}/\"\n",
    "MAIN_GLOB = sorted(glob.glob(MAIN_PATH + \"**/**/*.png\"))\n",
    "MAIN_NUM_FILES = len(MAIN_GLOB)\n"
   ]
  },
  {
   "cell_type": "code",
   "execution_count": 2,
   "metadata": {},
   "outputs": [],
   "source": [
    "def _check_if_files_found():\n",
    "    if DEV_NUM_FILES == 0 or MAIN_NUM_FILES == 0:\n",
    "        raise IOError(\n",
    "            \"No files found at DEV_PATH and/or MAIN_PATH. \"\n",
    "            f\"Please check {DEV_PATH} and {MAIN_PATH}.\"\n",
    "        )\n",
    "\n",
    "\n",
    "def _check_if_matching_filecount():\n",
    "    if DEV_NUM_FILES != MAIN_NUM_FILES:\n",
    "        raise IOError(\n",
    "            \"Number of files do not match at DEV_PATH and MAIN_PATH \"\n",
    "            f\"({DEV_NUM_FILES} vs. {MAIN_NUM_FILES}).\"\n",
    "        )\n",
    "\n",
    "    print(f\"Matching file count ({DEV_NUM_FILES} and {MAIN_NUM_FILES}).\")\n",
    "\n",
    "\n",
    "def _check_if_missing_files():\n",
    "    missing_dev_files = []\n",
    "    missing_main_files = []\n",
    "\n",
    "    for fp_main in MAIN_GLOB:\n",
    "        fp_dev = fp_main.replace(MAIN_PATH, DEV_PATH)\n",
    "\n",
    "        if fp_dev not in DEV_GLOB:\n",
    "            missing_dev_files.append(fp_dev)\n",
    "\n",
    "    for fp_dev in DEV_GLOB:\n",
    "        fp_main = fp_dev.replace(DEV_PATH, MAIN_PATH)\n",
    "\n",
    "        if fp_main not in MAIN_GLOB:\n",
    "            missing_main_files.append(fp_main)\n",
    "\n",
    "    return missing_dev_files, missing_main_files"
   ]
  },
  {
   "cell_type": "code",
   "execution_count": 3,
   "metadata": {},
   "outputs": [
    {
     "data": {
      "text/plain": [
       "(22, 22)"
      ]
     },
     "execution_count": 3,
     "metadata": {},
     "output_type": "execute_result"
    }
   ],
   "source": [
    "len(DEV_GLOB), len(MAIN_GLOB)"
   ]
  },
  {
   "cell_type": "markdown",
   "metadata": {},
   "source": [
    "## 1. Check for matching and equal number of files\n"
   ]
  },
  {
   "cell_type": "code",
   "execution_count": 4,
   "metadata": {},
   "outputs": [],
   "source": [
    "_check_if_files_found()"
   ]
  },
  {
   "cell_type": "code",
   "execution_count": 5,
   "metadata": {},
   "outputs": [],
   "source": [
    "missing_dev_files, missing_main_files = _check_if_missing_files()"
   ]
  },
  {
   "cell_type": "code",
   "execution_count": 6,
   "metadata": {},
   "outputs": [
    {
     "data": {
      "text/plain": [
       "[]"
      ]
     },
     "execution_count": 6,
     "metadata": {},
     "output_type": "execute_result"
    }
   ],
   "source": [
    "missing_dev_files"
   ]
  },
  {
   "cell_type": "code",
   "execution_count": 7,
   "metadata": {},
   "outputs": [
    {
     "data": {
      "text/plain": [
       "[]"
      ]
     },
     "execution_count": 7,
     "metadata": {},
     "output_type": "execute_result"
    }
   ],
   "source": [
    "missing_main_files"
   ]
  },
  {
   "cell_type": "code",
   "execution_count": 8,
   "metadata": {},
   "outputs": [
    {
     "name": "stdout",
     "output_type": "stream",
     "text": [
      "Matching file count (22 and 22).\n"
     ]
    }
   ],
   "source": [
    "_check_if_matching_filecount()"
   ]
  },
  {
   "cell_type": "markdown",
   "metadata": {},
   "source": [
    "## 2 Compare the plots between branches\n",
    "\n",
    "- Compare \"ref\" and \"test\" files\n",
    "- \"diff\" files are ignored because getting relative diffs for these does not make sense (relative diff will be above tolerance)\n"
   ]
  },
  {
   "cell_type": "code",
   "execution_count": 9,
   "metadata": {},
   "outputs": [
    {
     "name": "stdout",
     "output_type": "stream",
     "text": [
      "Comparing:\n",
      "    * /lcrc/group/e3sm/public_html/cdat-migration-fy24/25-02-04-main-zppy-diffs/lat_lon/CERES-EBAF-surface-v4.1/ceres_ebaf_surface_v4.1-ALBEDO_SRF-ANN-global.png\n",
      "    * /lcrc/group/e3sm/public_html/cdat-migration-fy24/25-02-18-branch-940-xesmf-diffs/lat_lon/CERES-EBAF-surface-v4.1/ceres_ebaf_surface_v4.1-ALBEDO_SRF-ANN-global.png\n",
      "     * Plots are identical\n",
      "Comparing:\n",
      "    * /lcrc/group/e3sm/public_html/cdat-migration-fy24/25-02-04-main-zppy-diffs/lat_lon/ERA5/ERA5-TREFHT-ANN-land.png\n",
      "    * /lcrc/group/e3sm/public_html/cdat-migration-fy24/25-02-18-branch-940-xesmf-diffs/lat_lon/ERA5/ERA5-TREFHT-ANN-land.png\n",
      "     * Difference path /lcrc/group/e3sm/public_html/cdat-migration-fy24/25-02-18-branch-940-xesmf-diffs/lat_lon/ERA5_diff/ERA5-TREFHT-ANN-land.png\n",
      "Comparing:\n",
      "    * /lcrc/group/e3sm/public_html/cdat-migration-fy24/25-02-04-main-zppy-diffs/lat_lon/ERA5/ERA5_ext-QREFHT-ANN-global.png\n",
      "    * /lcrc/group/e3sm/public_html/cdat-migration-fy24/25-02-18-branch-940-xesmf-diffs/lat_lon/ERA5/ERA5_ext-QREFHT-ANN-global.png\n",
      "     * Difference path /lcrc/group/e3sm/public_html/cdat-migration-fy24/25-02-18-branch-940-xesmf-diffs/lat_lon/ERA5_diff/ERA5_ext-QREFHT-ANN-global.png\n",
      "Comparing:\n",
      "    * /lcrc/group/e3sm/public_html/cdat-migration-fy24/25-02-04-main-zppy-diffs/lat_lon/ERA5/ERA5_ext-U10-ANN-global.png\n",
      "    * /lcrc/group/e3sm/public_html/cdat-migration-fy24/25-02-18-branch-940-xesmf-diffs/lat_lon/ERA5/ERA5_ext-U10-ANN-global.png\n",
      "     * Difference path /lcrc/group/e3sm/public_html/cdat-migration-fy24/25-02-18-branch-940-xesmf-diffs/lat_lon/ERA5_diff/ERA5_ext-U10-ANN-global.png\n",
      "Comparing:\n",
      "    * /lcrc/group/e3sm/public_html/cdat-migration-fy24/25-02-04-main-zppy-diffs/lat_lon/GPCP_v3.2/GPCP_v3.2-PRECT-ANN-global.png\n",
      "    * /lcrc/group/e3sm/public_html/cdat-migration-fy24/25-02-18-branch-940-xesmf-diffs/lat_lon/GPCP_v3.2/GPCP_v3.2-PRECT-ANN-global.png\n",
      "     * Difference path /lcrc/group/e3sm/public_html/cdat-migration-fy24/25-02-18-branch-940-xesmf-diffs/lat_lon/GPCP_v3.2_diff/GPCP_v3.2-PRECT-ANN-global.png\n",
      "Comparing:\n",
      "    * /lcrc/group/e3sm/public_html/cdat-migration-fy24/25-02-04-main-zppy-diffs/lat_lon/MERRA2/MERRA2-OMEGA-850-ANN-global.png\n",
      "    * /lcrc/group/e3sm/public_html/cdat-migration-fy24/25-02-18-branch-940-xesmf-diffs/lat_lon/MERRA2/MERRA2-OMEGA-850-ANN-global.png\n",
      "     * Difference path /lcrc/group/e3sm/public_html/cdat-migration-fy24/25-02-18-branch-940-xesmf-diffs/lat_lon/MERRA2_diff/MERRA2-OMEGA-850-ANN-global.png\n",
      "Comparing:\n",
      "    * /lcrc/group/e3sm/public_html/cdat-migration-fy24/25-02-04-main-zppy-diffs/lat_lon/MERRA2/MERRA2-PSL-ANN-global.png\n",
      "    * /lcrc/group/e3sm/public_html/cdat-migration-fy24/25-02-18-branch-940-xesmf-diffs/lat_lon/MERRA2/MERRA2-PSL-ANN-global.png\n",
      "     * Difference path /lcrc/group/e3sm/public_html/cdat-migration-fy24/25-02-18-branch-940-xesmf-diffs/lat_lon/MERRA2_diff/MERRA2-PSL-ANN-global.png\n",
      "Comparing:\n",
      "    * /lcrc/group/e3sm/public_html/cdat-migration-fy24/25-02-04-main-zppy-diffs/lat_lon/MERRA2/MERRA2-T-850-ANN-global.png\n",
      "    * /lcrc/group/e3sm/public_html/cdat-migration-fy24/25-02-18-branch-940-xesmf-diffs/lat_lon/MERRA2/MERRA2-T-850-ANN-global.png\n",
      "     * Difference path /lcrc/group/e3sm/public_html/cdat-migration-fy24/25-02-18-branch-940-xesmf-diffs/lat_lon/MERRA2_diff/MERRA2-T-850-ANN-global.png\n",
      "Comparing:\n",
      "    * /lcrc/group/e3sm/public_html/cdat-migration-fy24/25-02-04-main-zppy-diffs/lat_lon/MERRA2/MERRA2-TAUXY-ANN-ocean.png\n",
      "    * /lcrc/group/e3sm/public_html/cdat-migration-fy24/25-02-18-branch-940-xesmf-diffs/lat_lon/MERRA2/MERRA2-TAUXY-ANN-ocean.png\n",
      "     * Difference path /lcrc/group/e3sm/public_html/cdat-migration-fy24/25-02-18-branch-940-xesmf-diffs/lat_lon/MERRA2_diff/MERRA2-TAUXY-ANN-ocean.png\n",
      "Comparing:\n",
      "    * /lcrc/group/e3sm/public_html/cdat-migration-fy24/25-02-04-main-zppy-diffs/lat_lon/MERRA2/MERRA2-TREFHT-ANN-land.png\n",
      "    * /lcrc/group/e3sm/public_html/cdat-migration-fy24/25-02-18-branch-940-xesmf-diffs/lat_lon/MERRA2/MERRA2-TREFHT-ANN-land.png\n",
      "     * Difference path /lcrc/group/e3sm/public_html/cdat-migration-fy24/25-02-18-branch-940-xesmf-diffs/lat_lon/MERRA2_diff/MERRA2-TREFHT-ANN-land.png\n",
      "Comparing:\n",
      "    * /lcrc/group/e3sm/public_html/cdat-migration-fy24/25-02-04-main-zppy-diffs/lat_lon/MERRA2/MERRA2-TREFMNAV-ANN-global.png\n",
      "    * /lcrc/group/e3sm/public_html/cdat-migration-fy24/25-02-18-branch-940-xesmf-diffs/lat_lon/MERRA2/MERRA2-TREFMNAV-ANN-global.png\n",
      "     * Difference path /lcrc/group/e3sm/public_html/cdat-migration-fy24/25-02-18-branch-940-xesmf-diffs/lat_lon/MERRA2_diff/MERRA2-TREFMNAV-ANN-global.png\n",
      "Comparing:\n",
      "    * /lcrc/group/e3sm/public_html/cdat-migration-fy24/25-02-04-main-zppy-diffs/lat_lon/MERRA2/MERRA2-TREFMXAV-ANN-global.png\n",
      "    * /lcrc/group/e3sm/public_html/cdat-migration-fy24/25-02-18-branch-940-xesmf-diffs/lat_lon/MERRA2/MERRA2-TREFMXAV-ANN-global.png\n",
      "     * Plots are identical\n",
      "Comparing:\n",
      "    * /lcrc/group/e3sm/public_html/cdat-migration-fy24/25-02-04-main-zppy-diffs/lat_lon/OMI-MLS/OMI-MLS-TCO-ANN-60S60N.png\n",
      "    * /lcrc/group/e3sm/public_html/cdat-migration-fy24/25-02-18-branch-940-xesmf-diffs/lat_lon/OMI-MLS/OMI-MLS-TCO-ANN-60S60N.png\n",
      "     * Difference path /lcrc/group/e3sm/public_html/cdat-migration-fy24/25-02-18-branch-940-xesmf-diffs/lat_lon/OMI-MLS_diff/OMI-MLS-TCO-ANN-60S60N.png\n",
      "Comparing:\n",
      "    * /lcrc/group/e3sm/public_html/cdat-migration-fy24/25-02-04-main-zppy-diffs/lat_lon/SST_CL_HadISST/HadISST_CL-SST-ANN-global.png\n",
      "    * /lcrc/group/e3sm/public_html/cdat-migration-fy24/25-02-18-branch-940-xesmf-diffs/lat_lon/SST_CL_HadISST/HadISST_CL-SST-ANN-global.png\n",
      "     * Difference path /lcrc/group/e3sm/public_html/cdat-migration-fy24/25-02-18-branch-940-xesmf-diffs/lat_lon/SST_CL_HadISST_diff/HadISST_CL-SST-ANN-global.png\n",
      "Comparing:\n",
      "    * /lcrc/group/e3sm/public_html/cdat-migration-fy24/25-02-04-main-zppy-diffs/lat_lon/SST_PD_HadISST/HadISST_PD-SST-ANN-global.png\n",
      "    * /lcrc/group/e3sm/public_html/cdat-migration-fy24/25-02-18-branch-940-xesmf-diffs/lat_lon/SST_PD_HadISST/HadISST_PD-SST-ANN-global.png\n",
      "     * Difference path /lcrc/group/e3sm/public_html/cdat-migration-fy24/25-02-18-branch-940-xesmf-diffs/lat_lon/SST_PD_HadISST_diff/HadISST_PD-SST-ANN-global.png\n",
      "Comparing:\n",
      "    * /lcrc/group/e3sm/public_html/cdat-migration-fy24/25-02-04-main-zppy-diffs/lat_lon/SST_PI_HadISST/HadISST_PI-SST-ANN-global.png\n",
      "    * /lcrc/group/e3sm/public_html/cdat-migration-fy24/25-02-18-branch-940-xesmf-diffs/lat_lon/SST_PI_HadISST/HadISST_PI-SST-ANN-global.png\n",
      "     * Difference path /lcrc/group/e3sm/public_html/cdat-migration-fy24/25-02-18-branch-940-xesmf-diffs/lat_lon/SST_PI_HadISST_diff/HadISST_PI-SST-ANN-global.png\n",
      "Comparing:\n",
      "    * /lcrc/group/e3sm/public_html/cdat-migration-fy24/25-02-04-main-zppy-diffs/viewer/cmip6-comparison-data/cmip6_amip.png\n",
      "    * /lcrc/group/e3sm/public_html/cdat-migration-fy24/25-02-18-branch-940-xesmf-diffs/viewer/cmip6-comparison-data/cmip6_amip.png\n",
      "     * Difference path /lcrc/group/e3sm/public_html/cdat-migration-fy24/25-02-18-branch-940-xesmf-diffs/viewer/cmip6-comparison-data_diff/cmip6_amip.png\n",
      "Comparing:\n",
      "    * /lcrc/group/e3sm/public_html/cdat-migration-fy24/25-02-04-main-zppy-diffs/viewer/cmip6-comparison-data/cmip6_historical.png\n",
      "    * /lcrc/group/e3sm/public_html/cdat-migration-fy24/25-02-18-branch-940-xesmf-diffs/viewer/cmip6-comparison-data/cmip6_historical.png\n",
      "     * Difference path /lcrc/group/e3sm/public_html/cdat-migration-fy24/25-02-18-branch-940-xesmf-diffs/viewer/cmip6-comparison-data_diff/cmip6_historical.png\n",
      "Comparing:\n",
      "    * /lcrc/group/e3sm/public_html/cdat-migration-fy24/25-02-04-main-zppy-diffs/viewer/taylor-diagram-data/ANN_metrics_taylor_diag_amip.png\n",
      "    * /lcrc/group/e3sm/public_html/cdat-migration-fy24/25-02-18-branch-940-xesmf-diffs/viewer/taylor-diagram-data/ANN_metrics_taylor_diag_amip.png\n",
      "     * Difference path /lcrc/group/e3sm/public_html/cdat-migration-fy24/25-02-18-branch-940-xesmf-diffs/viewer/taylor-diagram-data_diff/ANN_metrics_taylor_diag_amip.png\n",
      "Comparing:\n",
      "    * /lcrc/group/e3sm/public_html/cdat-migration-fy24/25-02-04-main-zppy-diffs/viewer/taylor-diagram-data/ANN_metrics_taylor_diag_historical.png\n",
      "    * /lcrc/group/e3sm/public_html/cdat-migration-fy24/25-02-18-branch-940-xesmf-diffs/viewer/taylor-diagram-data/ANN_metrics_taylor_diag_historical.png\n",
      "     * Difference path /lcrc/group/e3sm/public_html/cdat-migration-fy24/25-02-18-branch-940-xesmf-diffs/viewer/taylor-diagram-data_diff/ANN_metrics_taylor_diag_historical.png\n",
      "Comparing:\n",
      "    * /lcrc/group/e3sm/public_html/cdat-migration-fy24/25-02-04-main-zppy-diffs/viewer/viewer/e3sm_logo.png\n",
      "    * /lcrc/group/e3sm/public_html/cdat-migration-fy24/25-02-18-branch-940-xesmf-diffs/viewer/viewer/e3sm_logo.png\n",
      "     * Plots are identical\n"
     ]
    }
   ],
   "source": [
    "MAIN_GLOB = [f for f in MAIN_GLOB if \"AOD_550\" not in f]\n",
    "\n",
    "for main_path in MAIN_GLOB:\n",
    "    dev_path = main_path.replace(MAIN_PATH, DEV_PATH)\n",
    "    print(\"Comparing:\")\n",
    "    print(f\"    * {main_path}\")\n",
    "    print(f\"    * {dev_path}\")\n",
    "\n",
    "    get_image_diffs(dev_path, main_path)"
   ]
  },
  {
   "cell_type": "markdown",
   "metadata": {},
   "source": [
    "### Results\n",
    "\n",
    "All the plots are virtually identical. There looks like one red dot that is different, which creates a diff plot.\n"
   ]
  }
 ],
 "metadata": {
  "kernelspec": {
   "display_name": "e3sm_diags_dev_930",
   "language": "python",
   "name": "python3"
  },
  "language_info": {
   "codemirror_mode": {
    "name": "ipython",
    "version": 3
   },
   "file_extension": ".py",
   "mimetype": "text/x-python",
   "name": "python",
   "nbconvert_exporter": "python",
   "pygments_lexer": "ipython3",
   "version": "3.12.8"
  }
 },
 "nbformat": 4,
 "nbformat_minor": 2
}
